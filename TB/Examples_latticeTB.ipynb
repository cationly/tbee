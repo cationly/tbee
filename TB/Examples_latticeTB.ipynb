{
 "cells": [
  {
   "cell_type": "markdown",
   "metadata": {},
   "source": [
    "# LATTICE CREATION WITH latticeTB MODULE"
   ]
  },
  {
   "cell_type": "code",
   "execution_count": 1,
   "metadata": {
    "collapsed": true
   },
   "outputs": [],
   "source": [
    "from latticeTB import *\n",
    "from plotTB import *\n",
    "from eigTB import *\n",
    "from math import pi, sqrt\n",
    "%matplotlib inline"
   ]
  },
  {
   "cell_type": "code",
   "execution_count": 2,
   "metadata": {
    "collapsed": false
   },
   "outputs": [],
   "source": [
    "%load_ext autoreload\n",
    "%autoreload 2"
   ]
  },
  {
   "cell_type": "markdown",
   "metadata": {},
   "source": [
    "## dimer chain"
   ]
  },
  {
   "cell_type": "code",
   "execution_count": 4,
   "metadata": {
    "collapsed": false
   },
   "outputs": [
    {
     "data": {
      "image/png": "[encoded data removed]",
      "text/plain": [
       "<matplotlib.figure.Figure at 0x1095e2390>"
      ]
     },
     "metadata": {},
     "output_type": "display_data"
    }
   ],
   "source": [
    "unit_cell = [{'tag': b'a', 'r0': [0, 0]}, \n",
    "             {'tag': b'b', 'r0': [1, 0]}]\n",
    "prim_vec = {'norm': 2, 'angle': 0}\n",
    "\n",
    "lat = latticeTB(unit_cell=unit_cell, prim_vec=prim_vec)\n",
    "sys = eigTB(lat=lat)\n",
    "plot = plotTB(sys=sys)\n",
    "save = saveTB(sys=sys, dir_name='chain')\n",
    "\n",
    "n1, n2 = 10, 1\n",
    "lat.get_lattice(n1=n1, n2=n2)\n",
    "fig_lat = plot.lattice(ms=20, figsize=(10, 2))\n",
    "save.fig_lat(fig_lat, 'lattice')"
   ]
  },
  {
   "cell_type": "markdown",
   "metadata": {},
   "source": [
    "## Square lattice "
   ]
  },
  {
   "cell_type": "markdown",
   "metadata": {},
   "source": [
    "###  with 1 site within the unit cell"
   ]
  },
  {
   "cell_type": "code",
   "execution_count": 5,
   "metadata": {
    "collapsed": false
   },
   "outputs": [
    {
     "data": {
      "image/png": "[encoded data removed]",
      "text/plain": [
       "<matplotlib.figure.Figure at 0x104d7ecc0>"
      ]
     },
     "metadata": {},
     "output_type": "display_data"
    }
   ],
   "source": [
    "unit_cell = [{'tag': b'a', 'r0': [0, 0]}]\n",
    "prim_vec = {'norm': 2, 'angle': 90}\n",
    "\n",
    "lat = latticeTB(unit_cell=unit_cell, prim_vec=prim_vec)\n",
    "sys = eigTB(lat=lat)\n",
    "plot = plotTB(sys=sys)\n",
    "save = saveTB(sys=sys, dir_name='chain')\n",
    "\n",
    "n1, n2 = 8, 8\n",
    "lat.get_lattice(n1=n1, n2=n2)\n",
    "fig_lat = plot.lattice(ms=15)\n",
    "save.fig_lat(fig_lat, 'lattice')"
   ]
  },
  {
   "cell_type": "markdown",
   "metadata": {},
   "source": [
    "### with 4 sites per unit cell"
   ]
  },
  {
   "cell_type": "code",
   "execution_count": 6,
   "metadata": {
    "collapsed": false
   },
   "outputs": [
    {
     "data": {
      "image/png": "[encoded data removed]",
      "text/plain": [
       "<matplotlib.figure.Figure at 0x104d6c3c8>"
      ]
     },
     "metadata": {},
     "output_type": "display_data"
    }
   ],
   "source": [
    "unit_cell = [{'tag': b'a', 'r0': [0, 0]}, \n",
    "             {'tag': b'b', 'r0': [1, 0]},\n",
    "             {'tag': b'c', 'r0': [0, 1]},\n",
    "             {'tag': b'd', 'r0': [1, 1]}]\n",
    "prim_vec = {'norm': 2, 'angle': 90}\n",
    "\n",
    "lat = latticeTB(unit_cell=unit_cell, prim_vec=prim_vec)\n",
    "sys = eigTB(lat=lat)\n",
    "plot = plotTB(sys=sys)\n",
    "save = saveTB(sys=sys, dir_name='square4')\n",
    "\n",
    "n1, n2 = 4, 4\n",
    "lat.get_lattice(n1=n1, n2=n2)\n",
    "fig_lat = plot.lattice(ms=15)\n",
    "save.fig_lat(fig_lat, 'lattice')"
   ]
  },
  {
   "cell_type": "markdown",
   "metadata": {
    "collapsed": true
   },
   "source": [
    "## Face-centered square"
   ]
  },
  {
   "cell_type": "code",
   "execution_count": 8,
   "metadata": {
    "collapsed": false
   },
   "outputs": [
    {
     "data": {
      "image/png": "[encoded data removed]",
      "text/plain": [
       "<matplotlib.figure.Figure at 0x10970db38>"
      ]
     },
     "metadata": {},
     "output_type": "display_data"
    }
   ],
   "source": [
    "unit_cell = [{'tag': b'a', 'r0': [0, 0]}, \n",
    "             {'tag': b'b', 'r0': [1, 1]}]\n",
    "prim_vec = {'norm': 2, 'angle': 90}\n",
    "\n",
    "lat = latticeTB(unit_cell=unit_cell, prim_vec=prim_vec)\n",
    "sys = eigTB(lat=lat)\n",
    "plot = plotTB(sys=sys)\n",
    "save = saveTB(sys=sys, dir_name='face_center_square')\n",
    "\n",
    "n1, n2 = 6, 6\n",
    "lat.get_lattice(n1=n1, n2=n2)\n",
    "lat.remove_sites_x(xlim=[0, 10])\n",
    "lat.remove_sites_y(ylim=[0, 10])\n",
    "fig_lat = plot.lattice(ms=15)\n",
    "save.fig_lat(fig_lat, 'lattice')"
   ]
  },
  {
   "cell_type": "markdown",
   "metadata": {},
   "source": [
    "## face-centered hexagon "
   ]
  },
  {
   "cell_type": "code",
   "execution_count": 9,
   "metadata": {
    "collapsed": false,
    "scrolled": true
   },
   "outputs": [
    {
     "data": {
      "image/png": "[encoded data removed]",
      "text/plain": [
       "<matplotlib.figure.Figure at 0x1097a66d8>"
      ]
     },
     "metadata": {},
     "output_type": "display_data"
    }
   ],
   "source": [
    "unit_cell = [{'tag': b'a', 'r0': [0, 0]}]\n",
    "prim_vec = {'norm': 1, 'angle': 120}\n",
    "lat = latticeTB(unit_cell=unit_cell, prim_vec=prim_vec)\n",
    "sys = eigTB(lat=lat)\n",
    "plot = plotTB(sys=sys)\n",
    "save = saveTB(sys=sys, dir_name='hexa_line_center')\n",
    "\n",
    "n1, n2 = 8, 8\n",
    "lat.get_lattice(n1=n1, n2=n2)\n",
    "fig_lat = plot.lattice(ms=15)\n",
    "save.fig_lat(fig_lat, 'lattice')"
   ]
  },
  {
   "cell_type": "markdown",
   "metadata": {},
   "source": [
    "## graphene"
   ]
  },
  {
   "cell_type": "code",
   "execution_count": 10,
   "metadata": {
    "collapsed": false
   },
   "outputs": [
    {
     "data": {
      "image/png": "[encoded data removed]",
      "text/plain": [
       "<matplotlib.figure.Figure at 0x10992dcf8>"
      ]
     },
     "metadata": {},
     "output_type": "display_data"
    }
   ],
   "source": [
    "unit_cell = [{'tag': b'a', 'r0': [0, 0]}, \n",
    "             {'tag': b'b', 'r0': [0.5*sqrt(3), 0.5]}]\n",
    "prim_vec = {'norm': sqrt(3), 'angle': 60}\n",
    "\n",
    "lat = latticeTB(unit_cell=unit_cell, prim_vec=prim_vec)\n",
    "sys = eigTB(lat=lat)\n",
    "plot = plotTB(sys=sys)\n",
    "save = saveTB(sys=sys, dir_name='graphene')\n",
    "\n",
    "n1, n2 = 6, 6\n",
    "lat.get_lattice(n1=n1, n2=n2)\n",
    "fig_lat_ind = plot.lattice(ms=15, plt_index=True)\n",
    "save.fig_lat(fig_lat_ind, 'lattice_ind')"
   ]
  },
  {
   "cell_type": "code",
   "execution_count": 11,
   "metadata": {
    "collapsed": false
   },
   "outputs": [
    {
     "data": {
      "image/png": "[encoded data removed]",
      "text/plain": [
       "<matplotlib.figure.Figure at 0x10885beb8>"
      ]
     },
     "metadata": {},
     "output_type": "display_data"
    }
   ],
   "source": [
    "lat.remove_sites(index=[27, 32, 33, 38, 39, 44])\n",
    "lat.remove_dangling()\n",
    "fig_lat_vac = plot.lattice(ms=15)\n",
    "save.fig_lat(fig_lat_vac, 'lattice_index_vac')"
   ]
  },
  {
   "cell_type": "markdown",
   "metadata": {},
   "source": [
    "## Kagome lattice"
   ]
  },
  {
   "cell_type": "code",
   "execution_count": 12,
   "metadata": {
    "collapsed": false
   },
   "outputs": [
    {
     "data": {
      "image/png": "[encoded data removed]",
      "text/plain": [
       "<matplotlib.figure.Figure at 0x104d86cc0>"
      ]
     },
     "metadata": {},
     "output_type": "display_data"
    }
   ],
   "source": [
    "unit_cell = [{'tag': b'a', 'r0': [0, 0]}, \n",
    "             {'tag': b'b', 'r0': [1, 0]},\n",
    "             {'tag': b'c', 'r0': [1/2., sqrt(3)/2]}]\n",
    "prim_vec = {'norm': 2, 'angle': 60}\n",
    "\n",
    "lat = latticeTB(unit_cell=unit_cell, prim_vec=prim_vec)\n",
    "sys = eigTB(lat=lat)\n",
    "plot = plotTB(sys=sys)\n",
    "save = saveTB(sys=sys, dir_name='kagome')\n",
    "\n",
    "n1, n2 = 6, 5\n",
    "lat.get_lattice(n1=n1, n2=n2)\n",
    "fig_lat = plot.lattice(ms=15)\n",
    "save.fig_lat(fig_lat, 'lattice')"
   ]
  },
  {
   "cell_type": "markdown",
   "metadata": {},
   "source": [
    "## Line centered hexagon "
   ]
  },
  {
   "cell_type": "code",
   "execution_count": 13,
   "metadata": {
    "collapsed": false
   },
   "outputs": [
    {
     "data": {
      "image/png": "[encoded data removed]",
      "text/plain": [
       "<matplotlib.figure.Figure at 0x10993a278>"
      ]
     },
     "metadata": {},
     "output_type": "display_data"
    }
   ],
   "source": [
    "unit_cell = [{'tag': b'a', 'r0': [0, 0]}, \n",
    "             {'tag': b'a', 'r0': [0.5*sqrt(3), 0.5]}, \n",
    "             {'tag': b'b', 'r0': [0.25*sqrt(3), 0.25]},\n",
    "             {'tag': b'b', 'r0': [0.75*sqrt(3), 0.25]},\n",
    "             {'tag': b'b', 'r0': [0.5*sqrt(3), 1.]}]\n",
    "prim_vec = {'norm': sqrt(3), 'angle': 60}\n",
    "lat = latticeTB(unit_cell=unit_cell, prim_vec=prim_vec)\n",
    "sys = eigTB(lat=lat)\n",
    "plot = plotTB(sys=sys, colors=['b', 'b', 'r', 'r', 'r'])\n",
    "save = saveTB(sys=sys, dir_name='graphene')\n",
    "\n",
    "n1, n2 = 6, 6\n",
    "lat.get_lattice(n1=n1, n2=n2)\n",
    "lat.remove_dangling()\n",
    "fig_lat_ind = plot.lattice(ms=10)\n",
    "save.fig_lat(fig_lat_ind, 'lattice')"
   ]
  },
  {
   "cell_type": "code",
   "execution_count": null,
   "metadata": {
    "collapsed": true
   },
   "outputs": [],
   "source": []
  }
 ],
 "metadata": {
  "kernelspec": {
   "display_name": "Python 3",
   "language": "python",
   "name": "python3"
  },
  "language_info": {
   "codemirror_mode": {
    "name": "ipython",
    "version": 3
   },
   "file_extension": ".py",
   "mimetype": "text/x-python",
   "name": "python",
   "nbconvert_exporter": "python",
   "pygments_lexer": "ipython3",
   "version": "3.4.3"
  }
 },
 "nbformat": 4,
 "nbformat_minor": 0
}
