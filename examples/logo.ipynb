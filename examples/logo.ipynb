{
 "cells": [
  {
   "cell_type": "code",
   "execution_count": 1,
   "metadata": {
    "collapsed": true
   },
   "outputs": [],
   "source": [
    "from lattice import *\n",
    "from system import *\n",
    "from plot import *\n",
    "%matplotlib inline"
   ]
  },
  {
   "cell_type": "code",
   "execution_count": 2,
   "metadata": {
    "collapsed": true
   },
   "outputs": [],
   "source": [
    "%load_ext autoreload\n",
    "%autoreload 2"
   ]
  },
  {
   "cell_type": "code",
   "execution_count": 3,
   "metadata": {
    "collapsed": false
   },
   "outputs": [
    {
     "name": "stdout",
     "output_type": "stream",
     "text": [
      "\n",
      "11 different distances between sites:\n",
      "\n",
      "Distances between sites:\n",
      "1st hopping, length: 1.000\n",
      "\twith positive angles:\n",
      "\t [ 0.0  90.0]\n",
      "2nd hopping, length: 1.414\n",
      "\twith positive angles:\n",
      "\t [ 45.0  135.0]\n",
      "3rd hopping, length: 2.000\n",
      "\twith positive angles:\n",
      "\t [ 0.0  90.0]\n",
      "4th hopping, length: 2.236\n",
      "\twith positive angles:\n",
      "\t [ 26.565  63.435  116.565  153.435]\n",
      "5th hopping, length: 2.828\n",
      "\twith positive angles:\n",
      "\t [ 45.0  135.0]\n"
     ]
    },
    {
     "data": {
      "image/png": "[encoded data removed]",
      "text/plain": [
       "<matplotlib.figure.Figure at 0x115a53c18>"
      ]
     },
     "metadata": {},
     "output_type": "display_data"
    },
    {
     "data": {
      "image/png": "[encoded data removed]",
      "text/plain": [
       "<matplotlib.figure.Figure at 0x11114f1d0>"
      ]
     },
     "metadata": {},
     "output_type": "display_data"
    },
    {
     "data": {
      "image/png": "[encoded data removed]",
      "text/plain": [
       "<matplotlib.figure.Figure at 0x111aad860>"
      ]
     },
     "metadata": {},
     "output_type": "display_data"
    }
   ],
   "source": [
    "n1 = 5\n",
    "unit_cell = [{'tag': b'a', 'r0': [0, 0]}]\n",
    "prim_vec = {'norm': 1, 'angle': 0}\n",
    "lat1 = lattice(unit_cell=unit_cell, prim_vec=prim_vec)\n",
    "sys1 = system(lat=lat1)\n",
    "plt1 = plot(sys=sys1)\n",
    "\n",
    "lat1.get_lattice(n1=n1, n2=1)\n",
    "plt1.lattice(figsize=(4, 3), tics=True);\n",
    "\n",
    "unit_cell = [{'tag': b'a', 'r0': [2, -4]}]\n",
    "prim_vec = {'norm': 1, 'angle': 90}\n",
    "lat2 = lattice(unit_cell=unit_cell, prim_vec=prim_vec)\n",
    "sys2 = system(lat=lat2)\n",
    "plt2 = plot(sys=sys2)\n",
    "n2 = 4\n",
    "lat2.get_lattice(n1=1, n2=n2)\n",
    "plt2.lattice(figsize=(4, 3), tics=True);\n",
    "sav = save(dir_name='logo', file_format='pdf')\n",
    "\n",
    "lat1 += lat2\n",
    "lat1.shift_y(4)\n",
    "lat1.shift_x(-2)\n",
    "sys1.print_hopping()\n",
    "sys1.set_hopping([{'n': 1, 't': 1.}, \n",
    "                  {'n': 4, 't': .6},\n",
    "                  {'n': 5, 't': .4}])\n",
    "fig_t = plt1.lattice(plt_hop=True, c=5);\n",
    "sav.fig_lat(fig_t, 'latticeT');"
   ]
  },
  {
   "cell_type": "code",
   "execution_count": 4,
   "metadata": {
    "collapsed": false
   },
   "outputs": [
    {
     "name": "stdout",
     "output_type": "stream",
     "text": [
      "\n",
      "11 different distances between sites:\n",
      "\n",
      "Distances between sites:\n",
      "1st hopping, length: 1.000\n",
      "\twith positive angles:\n",
      "\t [ 0.0  90.0]\n",
      "2nd hopping, length: 1.414\n",
      "\twith positive angles:\n",
      "\t [ 45.0  135.0]\n",
      "3rd hopping, length: 2.000\n",
      "\twith positive angles:\n",
      "\t [ 0.0  90.0]\n",
      "4th hopping, length: 2.236\n",
      "\twith positive angles:\n",
      "\t [ 26.565  63.435  116.565  153.435]\n",
      "5th hopping, length: 2.828\n",
      "\twith positive angles:\n",
      "\t [ 45.0  135.0]\n"
     ]
    },
    {
     "data": {
      "image/png": "[encoded data removed]",
      "text/plain": [
       "<matplotlib.figure.Figure at 0x11118a6a0>"
      ]
     },
     "metadata": {},
     "output_type": "display_data"
    }
   ],
   "source": [
    "unit_cell = [{'tag': b'b', 'r0': [0, 0]},\n",
    "             {'tag': b'b', 'r0': [0, 1]},\n",
    "             {'tag': b'b', 'r0': [1, 0]}]\n",
    "prim_vec = {'norm': 2, 'angle': 90}\n",
    "lat = lattice(unit_cell=unit_cell, prim_vec=prim_vec)\n",
    "sys = system(lat=lat)\n",
    "plt = plot(sys=sys, colors=['r'])\n",
    "sav = save(dir_name='logo', file_format='pdf')\n",
    "\n",
    "n1, n2 = 2, 3\n",
    "lat.get_lattice(n1=n1, n2=n2)\n",
    "lat.remove_dangling()\n",
    "lat.remove_sites([7])\n",
    "lat.shift_x(3)\n",
    "sys.print_hopping()\n",
    "sys.set_hopping([{'n': 1, 't': 1.}, \n",
    "                  {'n': 2, 't': .6}, \n",
    "                  {'n': 4, 't': .4}])\n",
    "fig_b = plt.lattice(plt_hop=True, c=5);\n",
    "sav.fig_lat(fig_b, 'latticeB');"
   ]
  },
  {
   "cell_type": "code",
   "execution_count": null,
   "metadata": {
    "collapsed": true
   },
   "outputs": [],
   "source": []
  }
 ],
 "metadata": {
  "kernelspec": {
   "display_name": "Python 3",
   "language": "python",
   "name": "python3"
  },
  "language_info": {
   "codemirror_mode": {
    "name": "ipython",
    "version": 3
   },
   "file_extension": ".py",
   "mimetype": "text/x-python",
   "name": "python",
   "nbconvert_exporter": "python",
   "pygments_lexer": "ipython3",
   "version": "3.4.4"
  }
 },
 "nbformat": 4,
 "nbformat_minor": 0
}
