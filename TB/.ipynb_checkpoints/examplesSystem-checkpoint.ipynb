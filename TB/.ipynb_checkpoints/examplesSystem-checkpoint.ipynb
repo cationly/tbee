{
 "cells": [
  {
   "cell_type": "code",
   "execution_count": 17,
   "metadata": {
    "collapsed": false
   },
   "outputs": [],
   "source": [
    "from lattice import *\n",
    "from system import *\n",
    "from plot import *\n",
    "%matplotlib inline"
   ]
  },
  {
   "cell_type": "code",
   "execution_count": 3,
   "metadata": {
    "collapsed": false
   },
   "outputs": [],
   "source": [
    "%load_ext autoreload\n",
    "%autoreload 2"
   ]
  },
  {
   "cell_type": "markdown",
   "metadata": {},
   "source": [
    "## Dimer Chain"
   ]
  },
  {
   "cell_type": "code",
   "execution_count": 22,
   "metadata": {
    "collapsed": false
   },
   "outputs": [],
   "source": [
    "unit_cell = [{'tag': b'a', 'r0': [0, 0]}, \n",
    "             {'tag': b'b', 'r0': [1, 0]}]\n",
    "prim_vec = {'norm': 2, 'angle': 0}\n",
    "\n",
    "lat = lattice(unit_cell=unit_cell, prim_vec=prim_vec)\n",
    "plt = plot(lat=lat)\n",
    "sav = save(lat=lat, dir_name='chain')\n",
    "\n",
    "n1 = 10\n",
    "lat.get_lattice(n1=n1)\n",
    "lat.remove_sites([2*n1-1])\n",
    "fig_lat = plt.lattice(ms=20, figsize=(10, 2))"
   ]
  },
  {
   "cell_type": "code",
   "execution_count": 39,
   "metadata": {
    "collapsed": false
   },
   "outputs": [],
   "source": [
    "sys = system(lat=lat)\n",
    "e_a, e_b = 0j, -1j \n",
    "t_ab, t_ba = 2., 1. "
   ]
  },
  {
   "cell_type": "code",
   "execution_count": 24,
   "metadata": {
    "collapsed": false
   },
   "outputs": [
    {
     "name": "stdout",
     "output_type": "stream",
     "text": [
      "\n",
      "18 different distances between nodes:\n",
      "\n",
      "Distances between sites:\n",
      "1st hopping, length: 1.000\n",
      "\twith positive angles:\n",
      "\t [ 0.0]\n",
      "2nd hopping, length: 2.000\n",
      "\twith positive angles:\n",
      "\t [ 0.0]\n",
      "3rd hopping, length: 3.000\n",
      "\twith positive angles:\n",
      "\t [ 0.0]\n"
     ]
    }
   ],
   "source": [
    "sys.print_hopping(n=3)"
   ]
  },
  {
   "cell_type": "code",
   "execution_count": 5,
   "metadata": {
    "collapsed": true
   },
   "outputs": [],
   "source": [
    "sys.set_onsite({b'a': e_a, b'b': e_b})"
   ]
  },
  {
   "cell_type": "code",
   "execution_count": 40,
   "metadata": {
    "collapsed": false
   },
   "outputs": [],
   "source": [
    "sys.set_hopping([{'n': 1, 'tag': b'ab', 't': t_ab}, \n",
    "                 {'n': 1, 'tag': b'ba', 't': t_ba}])"
   ]
  },
  {
   "cell_type": "code",
   "execution_count": 12,
   "metadata": {
    "collapsed": false
   },
   "outputs": [],
   "source": [
    "sys.set_onsite_def({0: -2, 1: -1})"
   ]
  },
  {
   "cell_type": "code",
   "execution_count": 14,
   "metadata": {
    "collapsed": false
   },
   "outputs": [],
   "source": [
    "sys.set_hopping_def({(0, 1): 3, (1, 2): 0.2})"
   ]
  },
  {
   "cell_type": "code",
   "execution_count": 41,
   "metadata": {
    "collapsed": false
   },
   "outputs": [
    {
     "data": {
      "text/plain": [
       "array([(1, 0, 1, (2+0j), 0, b'ab'), (1, 1, 2, (1+0j), 0, b'ba'),\n",
       "       (1, 2, 3, (2+0j), 0, b'ab'), (1, 3, 4, (1+0j), 0, b'ba'),\n",
       "       (1, 4, 5, (2+0j), 0, b'ab'), (1, 5, 6, (1+0j), 0, b'ba'),\n",
       "       (1, 6, 7, (2+0j), 0, b'ab'), (1, 7, 8, (1+0j), 0, b'ba'),\n",
       "       (1, 8, 9, (2+0j), 0, b'ab'), (1, 9, 10, (1+0j), 0, b'ba'),\n",
       "       (1, 10, 11, (2+0j), 0, b'ab'), (1, 11, 12, (1+0j), 0, b'ba'),\n",
       "       (1, 12, 13, (2+0j), 0, b'ab'), (1, 13, 14, (1+0j), 0, b'ba'),\n",
       "       (1, 14, 15, (2+0j), 0, b'ab'), (1, 15, 16, (1+0j), 0, b'ba'),\n",
       "       (1, 16, 17, (2+0j), 0, b'ab'), (1, 17, 18, (1+0j), 0, b'ba')], \n",
       "      dtype=[('n', '<u2'), ('i', '<u4'), ('j', '<u4'), ('t', '<c16'), ('ang', '<i2'), ('tag', 'S2')])"
      ]
     },
     "execution_count": 41,
     "metadata": {},
     "output_type": "execute_result"
    }
   ],
   "source": [
    "sys.hop"
   ]
  },
  {
   "cell_type": "code",
   "execution_count": 42,
   "metadata": {
    "collapsed": false
   },
   "outputs": [],
   "source": [
    "sys.set_hopping_new([{'n': 1, 'tag': b'ab', 't': t_ba}, \n",
    "                 {'n': 1, 'tag': b'ba', 't': t_ab}], \n",
    "               x_bottom_left=10)"
   ]
  },
  {
   "cell_type": "code",
   "execution_count": 43,
   "metadata": {
    "collapsed": false
   },
   "outputs": [
    {
     "data": {
      "text/plain": [
       "array([(1, 0, 1, (2+0j), 0, b'ab'), (1, 1, 2, (1+0j), 0, b'ba'),\n",
       "       (1, 2, 3, (2+0j), 0, b'ab'), (1, 3, 4, (1+0j), 0, b'ba'),\n",
       "       (1, 4, 5, (2+0j), 0, b'ab'), (1, 5, 6, (1+0j), 0, b'ba'),\n",
       "       (1, 6, 7, (2+0j), 0, b'ab'), (1, 7, 8, (1+0j), 0, b'ba'),\n",
       "       (1, 8, 9, (2+0j), 0, b'ab'), (1, 9, 10, (1+0j), 0, b'ba'),\n",
       "       (1, 10, 11, (1+0j), 0, b'ab'), (1, 11, 12, (2+0j), 0, b'ba'),\n",
       "       (1, 12, 13, (1+0j), 0, b'ab'), (1, 13, 14, (2+0j), 0, b'ba'),\n",
       "       (1, 14, 15, (1+0j), 0, b'ab'), (1, 15, 16, (2+0j), 0, b'ba'),\n",
       "       (1, 16, 17, (1+0j), 0, b'ab'), (1, 17, 18, (2+0j), 0, b'ba')], \n",
       "      dtype=[('n', '<u2'), ('i', '<u4'), ('j', '<u4'), ('t', '<c16'), ('ang', '<i2'), ('tag', 'S2')])"
      ]
     },
     "execution_count": 43,
     "metadata": {},
     "output_type": "execute_result"
    }
   ],
   "source": [
    "sys.hop"
   ]
  },
  {
   "cell_type": "code",
   "execution_count": 27,
   "metadata": {
    "collapsed": true
   },
   "outputs": [],
   "source": [
    "sys.set_onsite_dis(alpha=0.2+0.2j)"
   ]
  },
  {
   "cell_type": "code",
   "execution_count": 16,
   "metadata": {
    "collapsed": true
   },
   "outputs": [],
   "source": [
    "sys.set_hopping_dis(alpha=0.1)"
   ]
  },
  {
   "cell_type": "code",
   "execution_count": 44,
   "metadata": {
    "collapsed": false
   },
   "outputs": [],
   "source": [
    "sys.get_ham()"
   ]
  },
  {
   "cell_type": "code",
   "execution_count": 45,
   "metadata": {
    "collapsed": false
   },
   "outputs": [],
   "source": [
    "sys.get_eig(eigenvec=True)"
   ]
  },
  {
   "cell_type": "code",
   "execution_count": 47,
   "metadata": {
    "collapsed": false
   },
   "outputs": [
    {
     "name": "stdout",
     "output_type": "stream",
     "text": [
      "State with polarization: [ 1.]\n"
     ]
    }
   ],
   "source": [
    "zero_mode = sys.get_intensity_pola(tag_pola=b'a')"
   ]
  },
  {
   "cell_type": "code",
   "execution_count": 48,
   "metadata": {
    "collapsed": false
   },
   "outputs": [
    {
     "name": "stdout",
     "output_type": "stream",
     "text": [
      "10 states between -3 and 0.001\n"
     ]
    }
   ],
   "source": [
    "intensity_neg = sys.get_intensity_en(en_lims=[-3, 1e-3])"
   ]
  },
  {
   "cell_type": "code",
   "execution_count": 32,
   "metadata": {
    "collapsed": false
   },
   "outputs": [
    {
     "ename": "RuntimeError",
     "evalue": "\n\nRun method get_lattice first.\n",
     "output_type": "error",
     "traceback": [
      "\u001b[0;31m---------------------------------------------------------------------------\u001b[0m",
      "\u001b[0;31mRuntimeError\u001b[0m                              Traceback (most recent call last)",
      "\u001b[0;32m<ipython-input-32-96c90b2f6183>\u001b[0m in \u001b[0;36m<module>\u001b[0;34m()\u001b[0m\n\u001b[1;32m      3\u001b[0m \u001b[0mlat\u001b[0m \u001b[0;34m=\u001b[0m \u001b[0mlattice\u001b[0m\u001b[0;34m(\u001b[0m\u001b[0munit_cell\u001b[0m\u001b[0;34m=\u001b[0m\u001b[0munit_cell\u001b[0m\u001b[0;34m,\u001b[0m \u001b[0mprim_vec\u001b[0m\u001b[0;34m=\u001b[0m\u001b[0mprim_vec\u001b[0m\u001b[0;34m)\u001b[0m\u001b[0;34m\u001b[0m\u001b[0m\n\u001b[1;32m      4\u001b[0m \u001b[0;31m#lat.get_lattice(n1=5, n2=5)\u001b[0m\u001b[0;34m\u001b[0m\u001b[0;34m\u001b[0m\u001b[0m\n\u001b[0;32m----> 5\u001b[0;31m \u001b[0msys\u001b[0m \u001b[0;34m=\u001b[0m \u001b[0msystem\u001b[0m\u001b[0;34m(\u001b[0m\u001b[0mlat\u001b[0m\u001b[0;34m)\u001b[0m\u001b[0;34m\u001b[0m\u001b[0m\n\u001b[0m\u001b[1;32m      6\u001b[0m \u001b[0mplt\u001b[0m \u001b[0;34m=\u001b[0m \u001b[0mplot\u001b[0m\u001b[0;34m(\u001b[0m\u001b[0msys\u001b[0m\u001b[0;34m=\u001b[0m\u001b[0msys\u001b[0m\u001b[0;34m)\u001b[0m\u001b[0;34m\u001b[0m\u001b[0m\n",
      "\u001b[0;32m/Users/cpoli/Dropbox/prog/python/TB/TB/system.py\u001b[0m in \u001b[0;36m__init__\u001b[0;34m(self, lat)\u001b[0m\n\u001b[1;32m    311\u001b[0m     \u001b[0;32mdef\u001b[0m \u001b[0m__init__\u001b[0m\u001b[0;34m(\u001b[0m\u001b[0mself\u001b[0m\u001b[0;34m,\u001b[0m \u001b[0mlat\u001b[0m\u001b[0;34m)\u001b[0m\u001b[0;34m:\u001b[0m\u001b[0;34m\u001b[0m\u001b[0m\n\u001b[1;32m    312\u001b[0m         \u001b[0mtest_lat\u001b[0m\u001b[0;34m(\u001b[0m\u001b[0mlat\u001b[0m\u001b[0;34m)\u001b[0m\u001b[0;34m\u001b[0m\u001b[0m\n\u001b[0;32m--> 313\u001b[0;31m         \u001b[0mtest_coor_empty\u001b[0m\u001b[0;34m(\u001b[0m\u001b[0mlat\u001b[0m\u001b[0;34m.\u001b[0m\u001b[0mcoor\u001b[0m\u001b[0;34m)\u001b[0m\u001b[0;34m\u001b[0m\u001b[0m\n\u001b[0m\u001b[1;32m    314\u001b[0m         \u001b[0mself\u001b[0m\u001b[0;34m.\u001b[0m\u001b[0mlat\u001b[0m \u001b[0;34m=\u001b[0m \u001b[0mlat\u001b[0m\u001b[0;34m\u001b[0m\u001b[0m\n\u001b[1;32m    315\u001b[0m         \u001b[0mself\u001b[0m\u001b[0;34m.\u001b[0m\u001b[0mvec_hop\u001b[0m \u001b[0;34m=\u001b[0m \u001b[0mself\u001b[0m\u001b[0;34m.\u001b[0m\u001b[0mget_hop\u001b[0m\u001b[0;34m(\u001b[0m\u001b[0;34m)\u001b[0m\u001b[0;34m\u001b[0m\u001b[0m\n",
      "\u001b[0;32m/Users/cpoli/Dropbox/prog/python/TB/TB/lattice.py\u001b[0m in \u001b[0;36mtest_coor_empty\u001b[0;34m(coor)\u001b[0m\n\u001b[1;32m    111\u001b[0m     '''\n\u001b[1;32m    112\u001b[0m     \u001b[0;32mif\u001b[0m \u001b[0mcoor\u001b[0m\u001b[0;34m.\u001b[0m\u001b[0msize\u001b[0m \u001b[0;34m==\u001b[0m \u001b[0;36m0\u001b[0m\u001b[0;34m:\u001b[0m\u001b[0;34m\u001b[0m\u001b[0m\n\u001b[0;32m--> 113\u001b[0;31m         \u001b[0;32mraise\u001b[0m \u001b[0mRuntimeError\u001b[0m\u001b[0;34m(\u001b[0m\u001b[0;34m'\\n\\nRun method get_lattice first.\\n'\u001b[0m\u001b[0;34m)\u001b[0m\u001b[0;34m\u001b[0m\u001b[0m\n\u001b[0m\u001b[1;32m    114\u001b[0m \u001b[0;34m\u001b[0m\u001b[0m\n\u001b[1;32m    115\u001b[0m \u001b[0;34m\u001b[0m\u001b[0m\n",
      "\u001b[0;31mRuntimeError\u001b[0m: \n\nRun method get_lattice first.\n"
     ]
    }
   ],
   "source": [
    "unit_cell = [{'tag': b'a', 'r0': [0, 0]}]\n",
    "prim_vec = {'norm': 1, 'angle': 90}\n",
    "lat = lattice(unit_cell=unit_cell, prim_vec=prim_vec)\n",
    "lat.get_lattice(n1=5, n2=5)\n",
    "sys = system(lat)\n",
    "plt = plot(sys=sys)"
   ]
  },
  {
   "cell_type": "code",
   "execution_count": 31,
   "metadata": {
    "collapsed": false
   },
   "outputs": [
    {
     "name": "stdout",
     "output_type": "stream",
     "text": [
      "here\n"
     ]
    },
    {
     "data": {
      "image/png": "[encoded data removed]",
      "text/plain": [
       "<matplotlib.figure.Figure at 0x112b69630>"
      ]
     },
     "metadata": {},
     "output_type": "display_data"
    }
   ],
   "source": [
    "plt.lattice();"
   ]
  },
  {
   "cell_type": "code",
   "execution_count": null,
   "metadata": {
    "collapsed": true
   },
   "outputs": [],
   "source": []
  }
 ],
 "metadata": {
  "kernelspec": {
   "display_name": "Python 3",
   "language": "python",
   "name": "python3"
  },
  "language_info": {
   "codemirror_mode": {
    "name": "ipython",
    "version": 3
   },
   "file_extension": ".py",
   "mimetype": "text/x-python",
   "name": "python",
   "nbconvert_exporter": "python",
   "pygments_lexer": "ipython3",
   "version": "3.4.4"
  }
 },
 "nbformat": 4,
 "nbformat_minor": 0
}
