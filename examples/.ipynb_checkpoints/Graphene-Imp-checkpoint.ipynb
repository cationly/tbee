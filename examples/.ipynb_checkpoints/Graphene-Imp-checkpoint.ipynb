{
 "cells": [
  {
   "cell_type": "code",
   "execution_count": 1,
   "metadata": {
    "collapsed": true
   },
   "outputs": [],
   "source": [
    "# get the absolute path of the module.\n",
    "import os\n",
    "import sys\n",
    "curent_path = os.getcwd()\n",
    "module_path = curent_path[:-9]\n",
    "sys.path.append(module_path)"
   ]
  },
  {
   "cell_type": "code",
   "execution_count": 2,
   "metadata": {
    "collapsed": true
   },
   "outputs": [],
   "source": [
    "from tbee.graphene import *\n",
    "from tbee.save import *\n",
    "import matplotlib.pyplot as plt\n",
    "%matplotlib inline"
   ]
  },
  {
   "cell_type": "code",
   "execution_count": 3,
   "metadata": {
    "collapsed": false
   },
   "outputs": [],
   "source": [
    "%load_ext autoreload\n",
    "%autoreload 2"
   ]
  },
  {
   "cell_type": "code",
   "execution_count": 4,
   "metadata": {
    "collapsed": true
   },
   "outputs": [],
   "source": [
    "import warnings\n",
    "warnings.filterwarnings('ignore')"
   ]
  },
  {
   "cell_type": "code",
   "execution_count": 10,
   "metadata": {
    "collapsed": false
   },
   "outputs": [
    {
     "data": {
      "image/png": "[encoded data removed]",
      "text/plain": [
       "<matplotlib.figure.Figure at 0x118087c88>"
      ]
     },
     "metadata": {},
     "output_type": "display_data"
    }
   ],
   "source": [
    "lat = grapheneLat()\n",
    "sys = system(lat=lat)\n",
    "plt = plot(sys=sys)\n",
    "lat.get_lattice(n1=2, n2=2)\n",
    "lat.remove_dangling()\n",
    "lat.center()\n",
    "lat.plot(axis=True, plt_index=True, ms=5, fs=10);"
   ]
  },
  {
   "cell_type": "code",
   "execution_count": 11,
   "metadata": {
    "collapsed": true
   },
   "outputs": [],
   "source": [
    "lat.remove_sites([0])\n",
    "\n",
    "coor = np.array([(0, -1, b'c'), (0, -1, b'd')], dtype=[('x', 'f8'), ('y', 'f8'), ('tag', 'S1')])\n",
    "lat.add_sites(coor=coor)\n"
   ]
  },
  {
   "cell_type": "code",
   "execution_count": 12,
   "metadata": {
    "collapsed": false
   },
   "outputs": [
    {
     "name": "stdout",
     "output_type": "stream",
     "text": [
      "\n",
      "3 different distances between sites:\n",
      "\n",
      "Distances between sites:\n",
      "1st hopping, length: 1.000\n",
      "\twith positive angles:\n",
      "\t [  30.   90.  150.]\n",
      "2nd hopping, length: 1.732\n",
      "\twith positive angles:\n",
      "\t [   0.   60.  120.]\n",
      "3rd hopping, length: 2.000\n",
      "\twith positive angles:\n",
      "\t [  30.   90.  150.]\n"
     ]
    }
   ],
   "source": [
    "sys.print_distances(3)"
   ]
  },
  {
   "cell_type": "code",
   "execution_count": 6,
   "metadata": {
    "collapsed": true
   },
   "outputs": [],
   "source": [
    "sys.set_onsite({b'a': 1, b'b': 1})"
   ]
  },
  {
   "cell_type": "code",
   "execution_count": 7,
   "metadata": {
    "collapsed": false
   },
   "outputs": [],
   "source": [
    "# Energies of the 2 levels\n",
    "sys.set_onsite({b'c': 1, b'd': 2})"
   ]
  },
  {
   "cell_type": "code",
   "execution_count": 8,
   "metadata": {
    "collapsed": false
   },
   "outputs": [],
   "source": [
    "sys.set_hopping([{'n': 1, 't': 1, 'tag': b'ab'},\n",
    "                 {'n': 1, 't': 1, 'tag': b'ba'}])\n",
    "\n",
    "sys.set_hopping([{'n': 2, 't': 0.8, 'tag': b'aa'},\n",
    "                 {'n': 2, 't': 0.8, 'tag': b'bb'}])"
   ]
  },
  {
   "cell_type": "code",
   "execution_count": 736,
   "metadata": {
    "collapsed": true
   },
   "outputs": [],
   "source": [
    "#Hoppings to/from impurity\n",
    "i0 = 69  # index of the ground state\n",
    "t0 = 0.6\n",
    "t2 = 0.2\n",
    "\n",
    "# 3 hoppings connecting the lattice sites (20,30,31)\n",
    "# to the impurity gound state\n",
    "sys.set_hopping_manual({(20, i0): t0, (30, i0): t0, (31, i0): t0,\n",
    "                        (i0, 20): t0, (i0, 30): t0, (i0, 31): t0})\n",
    "\n",
    "#6 hoppings connecting the lattice sites (14,15,25,26,36,37)\n",
    "#to the impurity ground state\n",
    "sys.set_hopping_manual({(14, i0): t2, (15, i0): t2, (25, i0): t2, (26, i0): t2, (36, i0): t2, (37, i0): t2, \n",
    "                        (i0, 14): t2, (i0, 15): t2, (i0, 25): t2, (i0, 26): t2, (i0, 36): t2, (i0, 37): t2})                      \n",
    "\n",
    "\n",
    "i1 = 70  # index of the first excited state\n",
    "t1 = 0.3\n",
    "t3 = 0.1\n",
    "\n",
    "# 3 hoppings connecting the lattice sites (20, 30,31)\n",
    "# to the impurity first excited state\n",
    "sys.set_hopping_manual({(20, i1): t1, (30, i1): t1, (31, i1): t1,\n",
    "                        (i1, 20): t1, (i1, 30): t1, (i1, 31): t1})\n",
    "\n",
    "#6 hoppings connecting the lattice sites (14,15,25,26,36,37)\n",
    "#to the impurity first excited state\n",
    "\n",
    "sys.set_hopping_manual({(14, i1): t3, (15, i1): t3, (25, i1): t3, (26, i1): t3, (36, i1): t3, (37, i1): t3,\n",
    "                        (i1, 14): t3, (i1, 15): t3, (i1, 25): t3, (i1, 26): t3, (i1, 36): t3, (i1, 37): t3})\n",
    "                       "
   ]
  },
  {
   "cell_type": "code",
   "execution_count": 737,
   "metadata": {
    "collapsed": false
   },
   "outputs": [
    {
     "name": "stdout",
     "output_type": "stream",
     "text": [
      "[(1, 0, 5, 150.00000000000003, b'ab', (1+0j))\n",
      " (1, 0, 6, 30.00000000000001, b'ab', (1+0j))\n",
      " (1, 1, 6, 150.0, b'ab', (1+0j))\n",
      " (1, 1, 7, 30.00000000000001, b'ab', (1+0j))\n",
      " (1, 2, 7, 150.00000000000003, b'ab', (1+0j))\n",
      " (1, 2, 8, 30.00000000000001, b'ab', (1+0j))\n",
      " (1, 3, 8, 150.0, b'ab', (1+0j))\n",
      " (1, 3, 9, 30.00000000000001, b'ab', (1+0j))\n",
      " (1, 4, 9, 150.0, b'ab', (1+0j))\n",
      " (1, 4, 10, 29.999999999999986, b'ab', (1+0j))\n",
      " (1, 11, 17, 29.999999999999986, b'ab', (1+0j))\n",
      " (1, 12, 17, 150.0, b'ab', (1+0j))\n",
      " (1, 12, 18, 30.00000000000001, b'ab', (1+0j))\n",
      " (1, 13, 18, 150.0, b'ab', (1+0j))\n",
      " (1, 13, 19, 30.00000000000001, b'ab', (1+0j))\n",
      " (1, 14, 19, 150.00000000000003, b'ab', (1+0j))\n",
      " (1, 14, 20, 30.00000000000001, b'ab', (1+0j))\n",
      " (1, 15, 20, 150.0, b'ab', (1+0j))\n",
      " (1, 15, 21, 30.00000000000001, b'ab', (1+0j))\n",
      " (1, 16, 21, 150.00000000000003, b'ab', (1+0j))\n",
      " (1, 16, 22, 29.999999999999986, b'ab', (1+0j))\n",
      " (1, 23, 28, 30.00000000000001, b'ab', (1+0j))\n",
      " (1, 24, 28, 150.0, b'ab', (1+0j))\n",
      " (1, 24, 29, 30.00000000000001, b'ab', (1+0j))\n",
      " (1, 25, 29, 150.00000000000003, b'ab', (1+0j))\n",
      " (1, 25, 30, 30.00000000000001, b'ab', (1+0j))\n",
      " (1, 26, 31, 150.0, b'ab', (1+0j))\n",
      " (1, 26, 32, 29.999999999999986, b'ab', (1+0j))\n",
      " (1, 27, 32, 149.99999999999997, b'ab', (1+0j))\n",
      " (1, 27, 33, 29.999999999999986, b'ab', (1+0j))\n",
      " (1, 34, 40, 30.00000000000001, b'ab', (1+0j))\n",
      " (1, 35, 40, 150.0, b'ab', (1+0j))\n",
      " (1, 35, 41, 30.00000000000001, b'ab', (1+0j))\n",
      " (1, 36, 41, 150.00000000000003, b'ab', (1+0j))\n",
      " (1, 36, 42, 30.00000000000001, b'ab', (1+0j))\n",
      " (1, 37, 42, 150.00000000000003, b'ab', (1+0j))\n",
      " (1, 37, 43, 29.999999999999986, b'ab', (1+0j))\n",
      " (1, 38, 43, 149.99999999999997, b'ab', (1+0j))\n",
      " (1, 38, 44, 29.999999999999986, b'ab', (1+0j))\n",
      " (1, 39, 44, 149.99999999999997, b'ab', (1+0j))\n",
      " (1, 39, 45, 29.999999999999986, b'ab', (1+0j))\n",
      " (1, 46, 52, 30.00000000000001, b'ab', (1+0j))\n",
      " (1, 47, 52, 150.00000000000003, b'ab', (1+0j))\n",
      " (1, 47, 53, 30.00000000000001, b'ab', (1+0j))\n",
      " (1, 48, 53, 150.0, b'ab', (1+0j))\n",
      " (1, 48, 54, 30.00000000000001, b'ab', (1+0j))\n",
      " (1, 49, 54, 150.0, b'ab', (1+0j))\n",
      " (1, 49, 55, 29.999999999999986, b'ab', (1+0j))\n",
      " (1, 50, 55, 150.00000000000003, b'ab', (1+0j))\n",
      " (1, 50, 56, 29.999999999999986, b'ab', (1+0j))\n",
      " (1, 51, 56, 149.99999999999994, b'ab', (1+0j))\n",
      " (1, 51, 57, 29.999999999999986, b'ab', (1+0j))\n",
      " (1, 58, 64, 30.00000000000001, b'ab', (1+0j))\n",
      " (1, 59, 64, 150.0, b'ab', (1+0j))\n",
      " (1, 59, 65, 30.00000000000001, b'ab', (1+0j))\n",
      " (1, 60, 65, 150.00000000000003, b'ab', (1+0j))\n",
      " (1, 60, 66, 30.00000000000001, b'ab', (1+0j))\n",
      " (1, 61, 66, 150.00000000000003, b'ab', (1+0j))\n",
      " (1, 61, 67, 29.999999999999986, b'ab', (1+0j))\n",
      " (1, 62, 67, 149.99999999999997, b'ab', (1+0j))\n",
      " (1, 62, 68, 29.999999999999986, b'ab', (1+0j))\n",
      " (1, 63, 68, 149.99999999999997, b'ab', (1+0j))\n",
      " (1, 5, 11, 90.0, b'ba', (1+0j)) (1, 6, 12, 90.0, b'ba', (1+0j))\n",
      " (1, 7, 13, 90.0, b'ba', (1+0j)) (1, 8, 14, 90.0, b'ba', (1+0j))\n",
      " (1, 9, 15, 90.0, b'ba', (1+0j)) (1, 10, 16, 90.0, b'ba', (1+0j))\n",
      " (1, 17, 23, 90.0, b'ba', (1+0j)) (1, 18, 24, 90.0, b'ba', (1+0j))\n",
      " (1, 19, 25, 89.99999999999994, b'ba', (1+0j))\n",
      " (1, 21, 26, 90.0, b'ba', (1+0j))\n",
      " (1, 22, 27, 90.0000000000001, b'ba', (1+0j))\n",
      " (1, 28, 34, 90.0, b'ba', (1+0j)) (1, 29, 35, 90.0, b'ba', (1+0j))\n",
      " (1, 30, 36, 90.0, b'ba', (1+0j))\n",
      " (1, 31, 37, 89.99999999999994, b'ba', (1+0j))\n",
      " (1, 32, 38, 90.0, b'ba', (1+0j)) (1, 33, 39, 90.0, b'ba', (1+0j))\n",
      " (1, 40, 46, 90.0, b'ba', (1+0j))\n",
      " (1, 41, 47, 89.99999999999994, b'ba', (1+0j))\n",
      " (1, 42, 48, 90.0, b'ba', (1+0j))\n",
      " (1, 43, 49, 90.0000000000001, b'ba', (1+0j))\n",
      " (1, 44, 50, 90.0, b'ba', (1+0j))\n",
      " (1, 45, 51, 90.0000000000001, b'ba', (1+0j))\n",
      " (1, 52, 58, 90.0, b'ba', (1+0j))\n",
      " (1, 53, 59, 90.00000000000006, b'ba', (1+0j))\n",
      " (1, 54, 60, 90.0, b'ba', (1+0j)) (1, 55, 61, 90.0, b'ba', (1+0j))\n",
      " (1, 56, 62, 90.0000000000001, b'ba', (1+0j))\n",
      " (1, 57, 63, 90.0, b'ba', (1+0j)) (2, 0, 1, 0.0, b'aa', (0.8+0j))\n",
      " (2, 0, 11, 120.00000000000001, b'aa', (0.8+0j))\n",
      " (2, 0, 12, 60.00000000000001, b'aa', (0.8+0j))\n",
      " (2, 1, 2, 0.0, b'aa', (0.8+0j))\n",
      " (2, 1, 12, 119.99999999999999, b'aa', (0.8+0j))\n",
      " (2, 1, 13, 60.00000000000001, b'aa', (0.8+0j))\n",
      " (2, 2, 3, 0.0, b'aa', (0.8+0j))\n",
      " (2, 2, 13, 120.00000000000001, b'aa', (0.8+0j))\n",
      " (2, 2, 14, 60.00000000000001, b'aa', (0.8+0j))\n",
      " (2, 3, 4, 0.0, b'aa', (0.8+0j))\n",
      " (2, 3, 14, 119.99999999999999, b'aa', (0.8+0j))\n",
      " (2, 3, 15, 60.00000000000001, b'aa', (0.8+0j))\n",
      " (2, 4, 15, 119.99999999999999, b'aa', (0.8+0j))\n",
      " (2, 4, 16, 59.999999999999986, b'aa', (0.8+0j))\n",
      " (2, 11, 12, 0.0, b'aa', (0.8+0j))\n",
      " (2, 11, 23, 59.999999999999986, b'aa', (0.8+0j))\n",
      " (2, 12, 13, 0.0, b'aa', (0.8+0j))\n",
      " (2, 12, 23, 119.99999999999999, b'aa', (0.8+0j))\n",
      " (2, 12, 24, 60.00000000000001, b'aa', (0.8+0j))\n",
      " (2, 13, 14, 0.0, b'aa', (0.8+0j))\n",
      " (2, 13, 24, 119.99999999999999, b'aa', (0.8+0j))\n",
      " (2, 13, 25, 59.999999999999986, b'aa', (0.8+0j))\n",
      " (2, 14, 15, 0.0, b'aa', (0.8+0j))\n",
      " (2, 14, 25, 119.99999999999999, b'aa', (0.8+0j))\n",
      " (2, 15, 16, 0.0, b'aa', (0.8+0j))\n",
      " (2, 15, 26, 60.00000000000001, b'aa', (0.8+0j))\n",
      " (2, 16, 26, 120.00000000000001, b'aa', (0.8+0j))\n",
      " (2, 16, 27, 60.000000000000036, b'aa', (0.8+0j))\n",
      " (2, 23, 24, 0.0, b'aa', (0.8+0j))\n",
      " (2, 23, 34, 60.00000000000001, b'aa', (0.8+0j))\n",
      " (2, 24, 25, 0.0, b'aa', (0.8+0j))\n",
      " (2, 24, 34, 119.99999999999999, b'aa', (0.8+0j))\n",
      " (2, 24, 35, 60.00000000000001, b'aa', (0.8+0j))\n",
      " (2, 25, 35, 120.00000000000001, b'aa', (0.8+0j))\n",
      " (2, 25, 36, 60.00000000000001, b'aa', (0.8+0j))\n",
      " (2, 26, 27, 0.0, b'aa', (0.8+0j))\n",
      " (2, 26, 37, 119.99999999999997, b'aa', (0.8+0j))\n",
      " (2, 26, 38, 59.999999999999986, b'aa', (0.8+0j))\n",
      " (2, 27, 38, 119.99999999999997, b'aa', (0.8+0j))\n",
      " (2, 27, 39, 59.999999999999986, b'aa', (0.8+0j))\n",
      " (2, 34, 35, 0.0, b'aa', (0.8+0j))\n",
      " (2, 34, 46, 60.00000000000001, b'aa', (0.8+0j))\n",
      " (2, 35, 36, 0.0, b'aa', (0.8+0j))\n",
      " (2, 35, 46, 119.99999999999999, b'aa', (0.8+0j))\n",
      " (2, 35, 47, 59.999999999999986, b'aa', (0.8+0j))\n",
      " (2, 36, 37, 0.0, b'aa', (0.8+0j))\n",
      " (2, 36, 47, 119.99999999999999, b'aa', (0.8+0j))\n",
      " (2, 36, 48, 60.00000000000001, b'aa', (0.8+0j))\n",
      " (2, 37, 38, 0.0, b'aa', (0.8+0j))\n",
      " (2, 37, 48, 120.00000000000001, b'aa', (0.8+0j))\n",
      " (2, 37, 49, 60.000000000000036, b'aa', (0.8+0j))\n",
      " (2, 38, 39, 0.0, b'aa', (0.8+0j))\n",
      " (2, 38, 49, 120.00000000000001, b'aa', (0.8+0j))\n",
      " (2, 38, 50, 59.999999999999986, b'aa', (0.8+0j))\n",
      " (2, 39, 50, 119.99999999999997, b'aa', (0.8+0j))\n",
      " (2, 39, 51, 60.000000000000036, b'aa', (0.8+0j))\n",
      " (2, 46, 47, 0.0, b'aa', (0.8+0j))\n",
      " (2, 46, 58, 60.00000000000001, b'aa', (0.8+0j))\n",
      " (2, 47, 48, 0.0, b'aa', (0.8+0j))\n",
      " (2, 47, 58, 120.00000000000001, b'aa', (0.8+0j))\n",
      " (2, 47, 59, 60.000000000000036, b'aa', (0.8+0j))\n",
      " (2, 48, 49, 0.0, b'aa', (0.8+0j))\n",
      " (2, 48, 59, 120.00000000000001, b'aa', (0.8+0j))\n",
      " (2, 48, 60, 60.00000000000001, b'aa', (0.8+0j))\n",
      " (2, 49, 50, 0.0, b'aa', (0.8+0j))\n",
      " (2, 49, 60, 119.99999999999999, b'aa', (0.8+0j))\n",
      " (2, 49, 61, 59.999999999999986, b'aa', (0.8+0j))\n",
      " (2, 50, 51, 0.0, b'aa', (0.8+0j))\n",
      " (2, 50, 61, 120.00000000000001, b'aa', (0.8+0j))\n",
      " (2, 50, 62, 60.000000000000036, b'aa', (0.8+0j))\n",
      " (2, 51, 62, 119.99999999999997, b'aa', (0.8+0j))\n",
      " (2, 51, 63, 59.999999999999986, b'aa', (0.8+0j))\n",
      " (2, 58, 59, 0.0, b'aa', (0.8+0j)) (2, 59, 60, 0.0, b'aa', (0.8+0j))\n",
      " (2, 60, 61, 0.0, b'aa', (0.8+0j)) (2, 61, 62, 0.0, b'aa', (0.8+0j))\n",
      " (2, 62, 63, 0.0, b'aa', (0.8+0j)) (2, 5, 6, 0.0, b'bb', (0.8+0j))\n",
      " (2, 5, 17, 59.999999999999986, b'bb', (0.8+0j))\n",
      " (2, 6, 7, 0.0, b'bb', (0.8+0j))\n",
      " (2, 6, 17, 119.99999999999999, b'bb', (0.8+0j))\n",
      " (2, 6, 18, 60.00000000000001, b'bb', (0.8+0j))\n",
      " (2, 7, 8, 0.0, b'bb', (0.8+0j))\n",
      " (2, 7, 18, 119.99999999999999, b'bb', (0.8+0j))\n",
      " (2, 7, 19, 60.00000000000001, b'bb', (0.8+0j))\n",
      " (2, 8, 9, 0.0, b'bb', (0.8+0j))\n",
      " (2, 8, 19, 120.00000000000001, b'bb', (0.8+0j))\n",
      " (2, 8, 20, 60.00000000000001, b'bb', (0.8+0j))\n",
      " (2, 9, 10, 0.0, b'bb', (0.8+0j))\n",
      " (2, 9, 20, 119.99999999999999, b'bb', (0.8+0j))\n",
      " (2, 9, 21, 60.00000000000001, b'bb', (0.8+0j))\n",
      " (2, 10, 21, 120.00000000000001, b'bb', (0.8+0j))\n",
      " (2, 10, 22, 59.999999999999986, b'bb', (0.8+0j))\n",
      " (2, 17, 18, 0.0, b'bb', (0.8+0j))\n",
      " (2, 17, 28, 60.00000000000001, b'bb', (0.8+0j))\n",
      " (2, 18, 19, 0.0, b'bb', (0.8+0j))\n",
      " (2, 18, 28, 119.99999999999999, b'bb', (0.8+0j))\n",
      " (2, 18, 29, 60.00000000000001, b'bb', (0.8+0j))\n",
      " (2, 19, 20, 0.0, b'bb', (0.8+0j))\n",
      " (2, 19, 29, 119.99999999999999, b'bb', (0.8+0j))\n",
      " (2, 19, 30, 59.999999999999986, b'bb', (0.8+0j))\n",
      " (2, 20, 21, 0.0, b'bb', (0.8+0j))\n",
      " (2, 20, 30, 119.99999999999999, b'bb', (0.8+0j))\n",
      " (2, 20, 31, 60.00000000000001, b'bb', (0.8+0j))\n",
      " (2, 21, 22, 0.0, b'bb', (0.8+0j))\n",
      " (2, 21, 31, 119.99999999999999, b'bb', (0.8+0j))\n",
      " (2, 21, 32, 59.999999999999986, b'bb', (0.8+0j))\n",
      " (2, 22, 32, 120.00000000000001, b'bb', (0.8+0j))\n",
      " (2, 22, 33, 60.000000000000036, b'bb', (0.8+0j))\n",
      " (2, 28, 29, 0.0, b'bb', (0.8+0j))\n",
      " (2, 28, 40, 60.00000000000001, b'bb', (0.8+0j))\n",
      " (2, 29, 30, 0.0, b'bb', (0.8+0j))\n",
      " (2, 29, 40, 119.99999999999999, b'bb', (0.8+0j))\n",
      " (2, 29, 41, 60.00000000000001, b'bb', (0.8+0j))\n",
      " (2, 30, 31, 0.0, b'bb', (0.8+0j))\n",
      " (2, 30, 41, 120.00000000000001, b'bb', (0.8+0j))\n",
      " (2, 30, 42, 60.00000000000001, b'bb', (0.8+0j))\n",
      " (2, 31, 32, 0.0, b'bb', (0.8+0j))\n",
      " (2, 31, 42, 119.99999999999999, b'bb', (0.8+0j))\n",
      " (2, 31, 43, 59.99999999999996, b'bb', (0.8+0j))\n",
      " (2, 32, 33, 0.0, b'bb', (0.8+0j))\n",
      " (2, 32, 43, 119.99999999999997, b'bb', (0.8+0j))\n",
      " (2, 32, 44, 59.999999999999986, b'bb', (0.8+0j))\n",
      " (2, 33, 44, 119.99999999999997, b'bb', (0.8+0j))\n",
      " (2, 33, 45, 59.999999999999986, b'bb', (0.8+0j))\n",
      " (2, 40, 41, 0.0, b'bb', (0.8+0j))\n",
      " (2, 40, 52, 60.00000000000001, b'bb', (0.8+0j))\n",
      " (2, 41, 42, 0.0, b'bb', (0.8+0j))\n",
      " (2, 41, 52, 119.99999999999999, b'bb', (0.8+0j))\n",
      " (2, 41, 53, 59.999999999999986, b'bb', (0.8+0j))\n",
      " (2, 42, 43, 0.0, b'bb', (0.8+0j))\n",
      " (2, 42, 53, 119.99999999999999, b'bb', (0.8+0j))\n",
      " (2, 42, 54, 60.00000000000001, b'bb', (0.8+0j))\n",
      " (2, 43, 44, 0.0, b'bb', (0.8+0j))\n",
      " (2, 43, 54, 120.00000000000004, b'bb', (0.8+0j))\n",
      " (2, 43, 55, 60.000000000000036, b'bb', (0.8+0j))\n",
      " (2, 44, 45, 0.0, b'bb', (0.8+0j))\n",
      " (2, 44, 55, 120.00000000000001, b'bb', (0.8+0j))\n",
      " (2, 44, 56, 59.999999999999986, b'bb', (0.8+0j))\n",
      " (2, 45, 56, 119.99999999999997, b'bb', (0.8+0j))\n",
      " (2, 45, 57, 60.000000000000036, b'bb', (0.8+0j))\n",
      " (2, 52, 53, 0.0, b'bb', (0.8+0j))\n",
      " (2, 52, 64, 60.00000000000001, b'bb', (0.8+0j))\n",
      " (2, 53, 54, 0.0, b'bb', (0.8+0j))\n",
      " (2, 53, 64, 120.00000000000001, b'bb', (0.8+0j))\n",
      " (2, 53, 65, 60.000000000000036, b'bb', (0.8+0j))\n",
      " (2, 54, 55, 0.0, b'bb', (0.8+0j))\n",
      " (2, 54, 65, 120.00000000000001, b'bb', (0.8+0j))\n",
      " (2, 54, 66, 60.00000000000001, b'bb', (0.8+0j))\n",
      " (2, 55, 56, 0.0, b'bb', (0.8+0j))\n",
      " (2, 55, 66, 120.00000000000001, b'bb', (0.8+0j))\n",
      " (2, 55, 67, 59.999999999999986, b'bb', (0.8+0j))\n",
      " (2, 56, 57, 0.0, b'bb', (0.8+0j))\n",
      " (2, 56, 67, 120.00000000000001, b'bb', (0.8+0j))\n",
      " (2, 56, 68, 60.000000000000036, b'bb', (0.8+0j))\n",
      " (2, 57, 68, 119.99999999999997, b'bb', (0.8+0j))\n",
      " (2, 64, 65, 0.0, b'bb', (0.8+0j)) (2, 65, 66, 0.0, b'bb', (0.8+0j))\n",
      " (2, 66, 67, 0.0, b'bb', (0.8+0j)) (2, 67, 68, 0.0, b'bb', (0.8+0j))\n",
      " (0, 69, 30, 150.00000000000003, b'cb', (0.6+0j))\n",
      " (0, 69, 20, 89.99999999999994, b'cb', (0.6+0j))\n",
      " (0, 69, 31, 30.000000000000036, b'cb', (0.6+0j))\n",
      " (0, 30, 69, 150.0, b'bc', (0.6+0j))\n",
      " (0, 20, 69, 89.99999999999994, b'bc', (0.6+0j))\n",
      " (0, 31, 69, 30.00000000000003, b'bc', (0.6+0j))\n",
      " (0, 69, 36, 120.00000000000001, b'ca', (0.2+0j))\n",
      " (0, 37, 69, 60.000000000000014, b'ac', (0.2+0j))\n",
      " (0, 14, 69, 59.999999999999986, b'ac', (0.2+0j))\n",
      " (0, 36, 69, 120.00000000000001, b'ac', (0.2+0j))\n",
      " (0, 25, 69, 0.0, b'ac', (0.2+0j))\n",
      " (0, 69, 14, 59.999999999999986, b'ca', (0.2+0j))\n",
      " (0, 69, 25, 180.0, b'ca', (0.2+0j)) (0, 26, 69, 180.0, b'ac', (0.2+0j))\n",
      " (0, 69, 15, 119.99999999999997, b'ca', (0.2+0j))\n",
      " (0, 69, 26, 0.0, b'ca', (0.2+0j))\n",
      " (0, 15, 69, 119.99999999999997, b'ac', (0.2+0j))\n",
      " (0, 69, 37, 60.00000000000001, b'ca', (0.2+0j))\n",
      " (0, 70, 20, 89.99999999999994, b'db', (0.3+0j))\n",
      " (0, 31, 70, 30.00000000000003, b'bd', (0.3+0j))\n",
      " (0, 20, 70, 89.99999999999994, b'bd', (0.3+0j))\n",
      " (0, 30, 70, 150.0, b'bd', (0.3+0j))\n",
      " (0, 70, 31, 30.000000000000036, b'db', (0.3+0j))\n",
      " (0, 70, 30, 150.00000000000003, b'db', (0.3+0j))\n",
      " (0, 70, 36, 120.00000000000001, b'da', (0.1+0j))\n",
      " (0, 26, 70, 180.0, b'ad', (0.1+0j))\n",
      " (0, 36, 70, 120.00000000000001, b'ad', (0.1+0j))\n",
      " (0, 37, 70, 60.000000000000014, b'ad', (0.1+0j))\n",
      " (0, 25, 70, 0.0, b'ad', (0.1+0j)) (0, 70, 25, 180.0, b'da', (0.1+0j))\n",
      " (0, 14, 70, 59.999999999999986, b'ad', (0.1+0j))\n",
      " (0, 15, 70, 119.99999999999997, b'ad', (0.1+0j))\n",
      " (0, 70, 26, 0.0, b'da', (0.1+0j))\n",
      " (0, 70, 15, 119.99999999999997, b'da', (0.1+0j))\n",
      " (0, 70, 37, 60.00000000000001, b'da', (0.1+0j))\n",
      " (0, 70, 14, 59.999999999999986, b'da', (0.1+0j))]\n"
     ]
    }
   ],
   "source": [
    "print(sys.hop)"
   ]
  },
  {
   "cell_type": "code",
   "execution_count": 738,
   "metadata": {
    "collapsed": false
   },
   "outputs": [
    {
     "data": {
      "image/png": "[encoded data removed]",
      "text/plain": [
       "<matplotlib.figure.Figure at 0x13b9ea28908>"
      ]
     },
     "metadata": {},
     "output_type": "display_data"
    }
   ],
   "source": [
    "plt.lattice(plt_hop=True, c=1, ms=3);"
   ]
  },
  {
   "cell_type": "code",
   "execution_count": 739,
   "metadata": {
    "collapsed": false
   },
   "outputs": [
    {
     "name": "stdout",
     "output_type": "stream",
     "text": [
      "[[ 0.   0.8  0.  ...,  0.   0.   0. ]\n",
      " [ 0.8  0.   0.8 ...,  0.   0.   0. ]\n",
      " [ 0.   0.8  0.  ...,  0.   0.   0. ]\n",
      " ..., \n",
      " [ 0.   0.   0.  ...,  0.   0.   0. ]\n",
      " [ 0.   0.   0.  ...,  0.   1.   0. ]\n",
      " [ 0.   0.   0.  ...,  0.   0.   2. ]]\n"
     ]
    }
   ],
   "source": [
    "sys.get_ham()\n",
    "print(sys.ham.real.toarray())\n",
    "sys.get_eig(eigenvec=True)"
   ]
  },
  {
   "cell_type": "code",
   "execution_count": 740,
   "metadata": {
    "collapsed": false
   },
   "outputs": [
    {
     "data": {
      "image/png": "[encoded data removed]",
      "text/plain": [
       "<matplotlib.figure.Figure at 0x13b9edb0eb8>"
      ]
     },
     "metadata": {},
     "output_type": "display_data"
    }
   ],
   "source": [
    "plt.spectrum(ms=3, lims=[-3, 8], fs=15);"
   ]
  },
  {
   "cell_type": "code",
   "execution_count": 741,
   "metadata": {
    "collapsed": false
   },
   "outputs": [
    {
     "data": {
      "image/png": "[encoded data removed]",
      "text/plain": [
       "<matplotlib.figure.Figure at 0x13b9ec8b080>"
      ]
     },
     "metadata": {},
     "output_type": "display_data"
    }
   ],
   "source": [
    "plt.spectrum_hist(nbr_bins=20)"
   ]
  },
  {
   "cell_type": "code",
   "execution_count": null,
   "metadata": {
    "collapsed": true
   },
   "outputs": [],
   "source": []
  }
 ],
 "metadata": {
  "kernelspec": {
   "display_name": "Python 3",
   "language": "python",
   "name": "python3"
  },
  "language_info": {
   "codemirror_mode": {
    "name": "ipython",
    "version": 3
   },
   "file_extension": ".py",
   "mimetype": "text/x-python",
   "name": "python",
   "nbconvert_exporter": "python",
   "pygments_lexer": "ipython3",
   "version": "3.4.4"
  }
 },
 "nbformat": 4,
 "nbformat_minor": 0
}
