{
 "cells": [
  {
   "cell_type": "markdown",
   "metadata": {},
   "source": [
    "# LATTICE CREATION"
   ]
  },
  {
   "cell_type": "code",
   "execution_count": 2,
   "metadata": {
    "collapsed": false
   },
   "outputs": [
    {
     "ename": "ImportError",
     "evalue": "No module named 'latticeTB'",
     "output_type": "error",
     "traceback": [
      "\u001b[0;31m---------------------------------------------------------------------------\u001b[0m",
      "\u001b[0;31mImportError\u001b[0m                               Traceback (most recent call last)",
      "\u001b[0;32m<ipython-input-2-b71bccd42cb0>\u001b[0m in \u001b[0;36m<module>\u001b[0;34m()\u001b[0m\n\u001b[0;32m----> 1\u001b[0;31m \u001b[0;32mfrom\u001b[0m \u001b[0mTB\u001b[0m\u001b[0;34m.\u001b[0m\u001b[0mlattice\u001b[0m \u001b[0;32mimport\u001b[0m \u001b[0;34m*\u001b[0m\u001b[0;34m\u001b[0m\u001b[0m\n\u001b[0m",
      "\u001b[0;32m/opt/local/Library/Frameworks/Python.framework/Versions/3.4/lib/python3.4/site-packages/TB/__init__.py\u001b[0m in \u001b[0;36m<module>\u001b[0;34m()\u001b[0m\n\u001b[1;32m     22\u001b[0m \u001b[0;32mfrom\u001b[0m \u001b[0;34m.\u001b[0m\u001b[0mplotTB\u001b[0m \u001b[0;32mimport\u001b[0m \u001b[0mplotTB\u001b[0m\u001b[0;34m\u001b[0m\u001b[0m\n\u001b[1;32m     23\u001b[0m \u001b[0;32mfrom\u001b[0m \u001b[0;34m.\u001b[0m\u001b[0mpropTB\u001b[0m \u001b[0;32mimport\u001b[0m \u001b[0mpropTB\u001b[0m\u001b[0;34m\u001b[0m\u001b[0m\n\u001b[0;32m---> 24\u001b[0;31m \u001b[0;32mfrom\u001b[0m \u001b[0;34m.\u001b[0m\u001b[0mgrapheneTB\u001b[0m \u001b[0;32mimport\u001b[0m \u001b[0mgrapheneTB\u001b[0m\u001b[0;34m\u001b[0m\u001b[0m\n\u001b[0m\u001b[1;32m     25\u001b[0m \u001b[0;32mfrom\u001b[0m \u001b[0;34m.\u001b[0m\u001b[0mliebTB\u001b[0m \u001b[0;32mimport\u001b[0m \u001b[0mliebTB\u001b[0m\u001b[0;34m\u001b[0m\u001b[0m\n\u001b[1;32m     26\u001b[0m \u001b[0;34m\u001b[0m\u001b[0m\n",
      "\u001b[0;32m/opt/local/Library/Frameworks/Python.framework/Versions/3.4/lib/python3.4/site-packages/TB/grapheneTB.py\u001b[0m in \u001b[0;36m<module>\u001b[0;34m()\u001b[0m\n\u001b[0;32m----> 1\u001b[0;31m \u001b[0;32mfrom\u001b[0m \u001b[0mlatticeTB\u001b[0m \u001b[0;32mimport\u001b[0m \u001b[0;34m*\u001b[0m\u001b[0;34m\u001b[0m\u001b[0m\n\u001b[0m\u001b[1;32m      2\u001b[0m \u001b[0;32mfrom\u001b[0m \u001b[0mplotTB\u001b[0m \u001b[0;32mimport\u001b[0m \u001b[0;34m*\u001b[0m\u001b[0;34m\u001b[0m\u001b[0m\n\u001b[1;32m      3\u001b[0m \u001b[0;32mfrom\u001b[0m \u001b[0meigTB\u001b[0m \u001b[0;32mimport\u001b[0m \u001b[0;34m*\u001b[0m\u001b[0;34m\u001b[0m\u001b[0m\n\u001b[1;32m      4\u001b[0m \u001b[0;32mimport\u001b[0m \u001b[0mnumpy\u001b[0m \u001b[0;32mas\u001b[0m \u001b[0mnp\u001b[0m\u001b[0;34m\u001b[0m\u001b[0m\n\u001b[1;32m      5\u001b[0m \u001b[0;32mfrom\u001b[0m \u001b[0mmath\u001b[0m \u001b[0;32mimport\u001b[0m \u001b[0msqrt\u001b[0m\u001b[0;34m,\u001b[0m \u001b[0mpi\u001b[0m\u001b[0;34m\u001b[0m\u001b[0m\n",
      "\u001b[0;31mImportError\u001b[0m: No module named 'latticeTB'"
     ]
    }
   ],
   "source": [
    "from TB.lattice import *"
   ]
  },
  {
   "cell_type": "code",
   "execution_count": 7,
   "metadata": {
    "collapsed": false
   },
   "outputs": [],
   "source": [
    "from lattice import *\n",
    "from plot import save\n",
    "from math import cos, sin, sqrt\n",
    "from math import pi as PI\n",
    "%matplotlib inline"
   ]
  },
  {
   "cell_type": "code",
   "execution_count": 8,
   "metadata": {
    "collapsed": false
   },
   "outputs": [
    {
     "name": "stdout",
     "output_type": "stream",
     "text": [
      "The autoreload extension is already loaded. To reload it, use:\n",
      "  %reload_ext autoreload\n"
     ]
    }
   ],
   "source": [
    "%load_ext autoreload\n",
    "%autoreload 2"
   ]
  },
  {
   "cell_type": "markdown",
   "metadata": {},
   "source": [
    "## dimer chain"
   ]
  },
  {
   "cell_type": "code",
   "execution_count": 9,
   "metadata": {
    "collapsed": false
   },
   "outputs": [
    {
     "data": {
      "image/png": "[encoded data removed]",
      "text/plain": [
       "<matplotlib.figure.Figure at 0x10e0c2e48>"
      ]
     },
     "metadata": {},
     "output_type": "display_data"
    }
   ],
   "source": [
    "unit_cell = [{'tag': b'a', 'r0': (0, 0)}, \n",
    "             {'tag': b'b', 'r0': (1, 0)}]\n",
    "prim_vec = [(2., 0.)]\n",
    "\n",
    "lat = lattice(unit_cell=unit_cell, prim_vec=prim_vec)\n",
    "sav = save(dir_name='chain')\n",
    "\n",
    "n1, n2 = 10, 1\n",
    "lat.get_lattice(n1=n1, n2=n2)\n",
    "fig_lat = lat.plot(ms=20, figsize=(10, 2))\n",
    "sav.fig_lat(fig_lat, 'lattice')"
   ]
  },
  {
   "cell_type": "markdown",
   "metadata": {},
   "source": [
    "## Square lattice "
   ]
  },
  {
   "cell_type": "markdown",
   "metadata": {},
   "source": [
    "###  with 1 site within the unit cell"
   ]
  },
  {
   "cell_type": "code",
   "execution_count": 10,
   "metadata": {
    "collapsed": false
   },
   "outputs": [
    {
     "data": {
      "image/png": "[encoded data removed]",
      "text/plain": [
       "<matplotlib.figure.Figure at 0x10fd782b0>"
      ]
     },
     "metadata": {},
     "output_type": "display_data"
    }
   ],
   "source": [
    "unit_cell = [{'tag': b'a', 'r0': (0, 0)}]\n",
    "prim_vec = [(1., 0.), (0., 1.)]\n",
    "\n",
    "lat = lattice(unit_cell=unit_cell, prim_vec=prim_vec)\n",
    "sav = save(dir_name='square')\n",
    "\n",
    "n1, n2 = 8, 8\n",
    "lat.get_lattice(n1=n1, n2=n2)\n",
    "fig_lat = lat.plot(ms=15)\n",
    "sav.fig_lat(fig_lat, 'lattice')"
   ]
  },
  {
   "cell_type": "markdown",
   "metadata": {},
   "source": [
    "###  with 2 sites along x within the unit cell"
   ]
  },
  {
   "cell_type": "code",
   "execution_count": 11,
   "metadata": {
    "collapsed": false
   },
   "outputs": [
    {
     "data": {
      "image/png": "[encoded data removed]",
      "text/plain": [
       "<matplotlib.figure.Figure at 0x10ff10908>"
      ]
     },
     "metadata": {},
     "output_type": "display_data"
    }
   ],
   "source": [
    "unit_cell = [{'tag': b'a', 'r0': (0, 0)}, \n",
    "             {'tag': b'b', 'r0': (1, 0)}]\n",
    "prim_vec = [(2., 0.), (0., 1.)]\n",
    "\n",
    "lat = lattice(unit_cell=unit_cell, prim_vec=prim_vec)\n",
    "sav = save(dir_name='square_cell2x')\n",
    "\n",
    "n1, n2 = 4, 4\n",
    "lat.get_lattice(n1=n1, n2=n2)\n",
    "fig_lat = lat.plot(ms=15)\n",
    "sav.fig_lat(fig_lat, 'lattice')"
   ]
  },
  {
   "cell_type": "markdown",
   "metadata": {},
   "source": [
    "###  with 2 sites along y within the unit cell"
   ]
  },
  {
   "cell_type": "code",
   "execution_count": 12,
   "metadata": {
    "collapsed": false
   },
   "outputs": [
    {
     "data": {
      "image/png": "[encoded data removed]",
      "text/plain": [
       "<matplotlib.figure.Figure at 0x10ff21a58>"
      ]
     },
     "metadata": {},
     "output_type": "display_data"
    }
   ],
   "source": [
    "unit_cell = [{'tag': b'a', 'r0': (0, 0)}, \n",
    "             {'tag': b'b', 'r0': (0, 1)}]\n",
    "prim_vec = [(1., 0.), (0., 2.)]\n",
    "\n",
    "lat = lattice(unit_cell=unit_cell, prim_vec=prim_vec)\n",
    "sav = save(dir_name='square_cell2x')\n",
    "\n",
    "n1, n2 = 8, 4\n",
    "lat.get_lattice(n1=n1, n2=n2)\n",
    "fig_lat = lat.plot(ms=15)\n",
    "sav.fig_lat(fig_lat, 'lattice')"
   ]
  },
  {
   "cell_type": "markdown",
   "metadata": {},
   "source": [
    "### with 4 sites per unit cell"
   ]
  },
  {
   "cell_type": "code",
   "execution_count": 13,
   "metadata": {
    "collapsed": false
   },
   "outputs": [
    {
     "data": {
      "image/png": "[encoded data removed]",
      "text/plain": [
       "<matplotlib.figure.Figure at 0x10fddd9b0>"
      ]
     },
     "metadata": {},
     "output_type": "display_data"
    }
   ],
   "source": [
    "unit_cell = [{'tag': b'a', 'r0': (0, 0)}, \n",
    "             {'tag': b'b', 'r0': (1, 0)},\n",
    "             {'tag': b'c', 'r0': (0, 1)},\n",
    "             {'tag': b'd', 'r0': (1, 1)}]\n",
    "prim_vec = [(2., 0.), (0., 2.)]\n",
    "\n",
    "lat = lattice(unit_cell=unit_cell, prim_vec=prim_vec)\n",
    "sav = save(dir_name='square_cell4')\n",
    "\n",
    "n1, n2 = 4, 4\n",
    "lat.get_lattice(n1=n1, n2=n2)\n",
    "fig_lat = lat.plot(ms=15)\n",
    "sav.fig_lat(fig_lat, 'lattice')"
   ]
  },
  {
   "cell_type": "markdown",
   "metadata": {
    "collapsed": true
   },
   "source": [
    "## Face-centered square"
   ]
  },
  {
   "cell_type": "code",
   "execution_count": 15,
   "metadata": {
    "collapsed": false
   },
   "outputs": [
    {
     "data": {
      "image/png": "[encoded data removed]",
      "text/plain": [
       "<matplotlib.figure.Figure at 0x10bbb5240>"
      ]
     },
     "metadata": {},
     "output_type": "display_data"
    }
   ],
   "source": [
    "unit_cell = [{'tag': b'a', 'r0': (0, 0)}, \n",
    "             {'tag': b'b', 'r0': (1, 1)}]\n",
    "prim_vec = [(2., 0.), (0., 2.)]\n",
    "\n",
    "lat = lattice(unit_cell=unit_cell, prim_vec=prim_vec)\n",
    "sav = save(dir_name='face_center_square')\n",
    "\n",
    "n1, n2 = 8, 8\n",
    "lat.get_lattice(n1=n1, n2=n2)\n",
    "lat.boundary_line(cx=0, cy=-1, co=-12.5)\n",
    "lat.boundary_line(cx=-1, cy=0, co=-12.5)\n",
    "fig_lat = lat.plot(ms=15)\n",
    "sav.fig_lat(fig_lat, 'lattice')"
   ]
  },
  {
   "cell_type": "markdown",
   "metadata": {},
   "source": [
    "## face-centered hexagon "
   ]
  },
  {
   "cell_type": "code",
   "execution_count": 16,
   "metadata": {
    "collapsed": false,
    "scrolled": true
   },
   "outputs": [
    {
     "data": {
      "image/png": "[encoded data removed]",
      "text/plain": [
       "<matplotlib.figure.Figure at 0x10ffcaba8>"
      ]
     },
     "metadata": {},
     "output_type": "display_data"
    }
   ],
   "source": [
    "unit_cell = [{'tag': b'a', 'r0': (0, 0)}]\n",
    "prim_vec = [(1., 0.), (cos(PI/3), sin(PI/3))]\n",
    "\n",
    "lat = lattice(unit_cell=unit_cell, prim_vec=prim_vec)\n",
    "sav = save(dir_name='hexa_face_center')\n",
    "\n",
    "n1, n2 = 8, 8\n",
    "lat.get_lattice(n1=n1, n2=n2)\n",
    "fig_lat = lat.plot(ms=15)\n",
    "sav.fig_lat(fig_lat, 'lattice')"
   ]
  },
  {
   "cell_type": "markdown",
   "metadata": {},
   "source": [
    "## Lieb lattice"
   ]
  },
  {
   "cell_type": "code",
   "execution_count": 17,
   "metadata": {
    "collapsed": false
   },
   "outputs": [
    {
     "data": {
      "image/png": "[encoded data removed]",
      "text/plain": [
       "<matplotlib.figure.Figure at 0x10fe884e0>"
      ]
     },
     "metadata": {},
     "output_type": "display_data"
    }
   ],
   "source": [
    "unit_cell = [{'tag': b'a', 'r0': (0, 0)},\n",
    "             {'tag': b'b', 'r0': (1, 0)},\n",
    "             {'tag': b'c', 'r0': (0, 1)}]\n",
    "prim_vec = [(2., 0.), (0., 2.)]\n",
    "lat = lattice(unit_cell=unit_cell, prim_vec=prim_vec)\n",
    "sav = save(dir_name='lieb')\n",
    "\n",
    "\n",
    "n1, n2 = 6, 6\n",
    "lat.get_lattice(n1=n1, n2=n2)\n",
    "lat.remove_dangling()\n",
    "fig_lat = lat.plot(ms=15)\n",
    "sav.fig_lat(fig_lat, 'lattice_n6_n6')"
   ]
  },
  {
   "cell_type": "markdown",
   "metadata": {},
   "source": [
    "## graphene"
   ]
  },
  {
   "cell_type": "code",
   "execution_count": 18,
   "metadata": {
    "collapsed": false
   },
   "outputs": [
    {
     "data": {
      "image/png": "[encoded data removed]",
      "text/plain": [
       "<matplotlib.figure.Figure at 0x11033ce48>"
      ]
     },
     "metadata": {},
     "output_type": "display_data"
    }
   ],
   "source": [
    "unit_cell = [{'tag': b'a', 'r0': (0., 0.)}, \n",
    "             {'tag': b'b', 'r0': (0.5, 0.5/sqrt(3))}]\n",
    "prim_vec = [(1, 0.), (cos(PI/3), sin(PI/3))]\n",
    "\n",
    "lat = lattice(unit_cell=unit_cell, prim_vec=prim_vec)\n",
    "sav = save(dir_name='graphene')\n",
    "\n",
    "n1, n2 = 6, 6\n",
    "lat.get_lattice(n1=n1, n2=n2)\n",
    "fig_lat_ind = lat.plot(ms=8, fs=12, plt_index=True)\n",
    "sav.fig_lat(fig_lat_ind, 'lattice_ind')"
   ]
  },
  {
   "cell_type": "code",
   "execution_count": 19,
   "metadata": {
    "collapsed": false
   },
   "outputs": [
    {
     "data": {
      "image/png": "[encoded data removed]",
      "text/plain": [
       "<matplotlib.figure.Figure at 0x110212278>"
      ]
     },
     "metadata": {},
     "output_type": "display_data"
    }
   ],
   "source": [
    "lat.remove_sites(index=[27, 32, 33, 38, 39, 44])\n",
    "lat.remove_dangling()\n",
    "fig_lat_vac = lat.plot(ms=10)\n",
    "sav.fig_lat(fig_lat_vac, 'lattice_index_vac')"
   ]
  },
  {
   "cell_type": "markdown",
   "metadata": {},
   "source": [
    "## Kagome lattice"
   ]
  },
  {
   "cell_type": "code",
   "execution_count": 20,
   "metadata": {
    "collapsed": false
   },
   "outputs": [
    {
     "data": {
      "image/png": "[encoded data removed]",
      "text/plain": [
       "<matplotlib.figure.Figure at 0x10e0fb9e8>"
      ]
     },
     "metadata": {},
     "output_type": "display_data"
    }
   ],
   "source": [
    "unit_cell = [{'tag': b'a', 'r0': (0, 0)}, \n",
    "             {'tag': b'b', 'r0': (1, 0)},\n",
    "             {'tag': b'c', 'r0': (0.5, 0.5*sqrt(3))}]\n",
    "prim_vec = [(2, 0.), (2*cos(PI/3), 2*sin(PI/3))]\n",
    "lat = lattice(unit_cell=unit_cell, prim_vec=prim_vec)\n",
    "sav = save(dir_name='kagome')\n",
    "\n",
    "n1, n2 = 6, 5\n",
    "lat.get_lattice(n1=n1, n2=n2)\n",
    "fig_lat = lat.plot(ms=10)\n",
    "sav.fig_lat(fig_lat, 'lattice')"
   ]
  },
  {
   "cell_type": "markdown",
   "metadata": {},
   "source": [
    "## Line centered hexagon "
   ]
  },
  {
   "cell_type": "code",
   "execution_count": 21,
   "metadata": {
    "collapsed": false
   },
   "outputs": [
    {
     "data": {
      "image/png": "[encoded data removed]",
      "text/plain": [
       "<matplotlib.figure.Figure at 0x11047df60>"
      ]
     },
     "metadata": {},
     "output_type": "display_data"
    }
   ],
   "source": [
    "unit_cell = [{'tag': b'a', 'r0': (0, 0)}, \n",
    "             {'tag': b'a', 'r0': (0.5, 0.5/sqrt(3))}, \n",
    "             {'tag': b'b', 'r0': (0.25, 0.25/sqrt(3))},\n",
    "             {'tag': b'b', 'r0': (0.75, 0.25/sqrt(3))},\n",
    "             {'tag': b'b', 'r0': (0.5, 1./sqrt(3))}]\n",
    "prim_vec = [(1, 0.), (cos(PI/3), sin(PI/3))]\n",
    "lat = lattice(unit_cell=unit_cell, prim_vec=prim_vec)\n",
    "sav = save(dir_name='graphene_line_center')\n",
    "\n",
    "n1, n2 = 6, 6\n",
    "lat.get_lattice(n1=n1, n2=n2)\n",
    "lat.remove_dangling()\n",
    "fig_lat_ind = lat.plot(ms=6)\n",
    "sav.fig_lat(fig_lat_ind, 'lattice')"
   ]
  },
  {
   "cell_type": "markdown",
   "metadata": {},
   "source": [
    "## ELLIPSOID SHAPES"
   ]
  },
  {
   "cell_type": "markdown",
   "metadata": {},
   "source": [
    "### Circle"
   ]
  },
  {
   "cell_type": "code",
   "execution_count": 22,
   "metadata": {
    "collapsed": false
   },
   "outputs": [
    {
     "data": {
      "image/png": "[encoded data removed]",
      "text/plain": [
       "<matplotlib.figure.Figure at 0x1105bf080>"
      ]
     },
     "metadata": {},
     "output_type": "display_data"
    }
   ],
   "source": [
    "unit_cell = [{'tag': b'a', 'r0': (0, 0)}]\n",
    "prim_vec = [(1., 0.), (0., 1.)]\n",
    "lat = lattice(unit_cell=unit_cell, prim_vec=prim_vec)\n",
    "sav = save(dir_name='square')\n",
    "\n",
    "n1, n2 = 12, 12\n",
    "lat.get_lattice(n1=n1, n2=n2)\n",
    "lat.center()\n",
    "lat.ellipse_in(a=5.8, b=5.8)\n",
    "fig_lat = lat.plot(ms=8);\n",
    "sav.fig_lat(fig_lat, 'circle')"
   ]
  },
  {
   "cell_type": "markdown",
   "metadata": {},
   "source": [
    "### Ellipse"
   ]
  },
  {
   "cell_type": "code",
   "execution_count": 23,
   "metadata": {
    "collapsed": false
   },
   "outputs": [
    {
     "data": {
      "image/png": "[encoded data removed]",
      "text/plain": [
       "<matplotlib.figure.Figure at 0x1107d9b00>"
      ]
     },
     "metadata": {},
     "output_type": "display_data"
    }
   ],
   "source": [
    "unit_cell = [{'tag': b'a', 'r0': (0, 0)}]\n",
    "prim_vec = [(1., 0.), (0., 1.)]\n",
    "lat = lattice(unit_cell=unit_cell, prim_vec=prim_vec)\n",
    "sav = save(dir_name='square')\n",
    "\n",
    "n1, n2 = 18, 13\n",
    "lat.get_lattice(n1=n1, n2=n2)\n",
    "lat.center()\n",
    "lat.ellipse_in(a=8.8, b=5.8)\n",
    "fig_lat = lat.plot(ms=8)\n",
    "sav.fig_lat(fig_lat, 'ellipse')"
   ]
  },
  {
   "cell_type": "markdown",
   "metadata": {},
   "source": [
    "### circular hole"
   ]
  },
  {
   "cell_type": "code",
   "execution_count": 24,
   "metadata": {
    "collapsed": false
   },
   "outputs": [
    {
     "data": {
      "image/png": "[encoded data removed]",
      "text/plain": [
       "<matplotlib.figure.Figure at 0x1105bf438>"
      ]
     },
     "metadata": {},
     "output_type": "display_data"
    }
   ],
   "source": [
    "unit_cell = [{'tag': b'a', 'r0': (0, 0)}]\n",
    "prim_vec = [(1., 0.), (0., 1.)]\n",
    "lat = lattice(unit_cell=unit_cell, prim_vec=prim_vec)\n",
    "sav = save(dir_name='square')\n",
    "\n",
    "n1, n2 = 17, 17\n",
    "lat.get_lattice(n1=n1, n2=n2)\n",
    "lat.center()\n",
    "lat.ellipse_out(a=5.5, b=5.5)\n",
    "fig_lat = lat.plot(ms=8);\n",
    "sav.fig_lat(fig_lat, 'circle_remove')"
   ]
  },
  {
   "cell_type": "markdown",
   "metadata": {},
   "source": [
    "### Circular graphene flake "
   ]
  },
  {
   "cell_type": "code",
   "execution_count": 25,
   "metadata": {
    "collapsed": false
   },
   "outputs": [
    {
     "data": {
      "image/png": "[encoded data removed]",
      "text/plain": [
       "<matplotlib.figure.Figure at 0x1103d49e8>"
      ]
     },
     "metadata": {},
     "output_type": "display_data"
    }
   ],
   "source": [
    "unit_cell = [{'tag': b'a', 'r0': (0., 0.)}, \n",
    "             {'tag': b'b', 'r0': (0.5, 0.5/sqrt(3))}]\n",
    "prim_vec = [(1, 0.), (cos(PI/3), sin(PI/3))]\n",
    "lat1 = lattice(unit_cell=unit_cell, prim_vec=prim_vec)\n",
    "sav = save(dir_name='graphene')\n",
    "\n",
    "n1, n2 = 16, 16\n",
    "lat1.get_lattice(n1=n1, n2=n2)\n",
    "lat1.center()\n",
    "lat1.ellipse_in(a=6., b=6.)\n",
    "lat1.remove_dangling()\n",
    "fig_lat = lat1.plot(ms=5, axis=True)\n",
    "sav.fig_lat(fig_lat, 'circle');"
   ]
  },
  {
   "cell_type": "markdown",
   "metadata": {},
   "source": [
    "## SUBSTRACT LATTICES"
   ]
  },
  {
   "cell_type": "code",
   "execution_count": 26,
   "metadata": {
    "collapsed": false
   },
   "outputs": [
    {
     "data": {
      "image/png": "[encoded data removed]",
      "text/plain": [
       "<matplotlib.figure.Figure at 0x110520668>"
      ]
     },
     "metadata": {},
     "output_type": "display_data"
    }
   ],
   "source": [
    "lat2 = lattice(unit_cell=unit_cell, prim_vec=prim_vec)\n",
    "n1, n2 = 16, 16\n",
    "lat2.get_lattice(n1=n1, n2=n2)\n",
    "lat2.center()\n",
    "lat2.ellipse_in(a=3.5, b=3.5)\n",
    "lat2.remove_dangling()\n",
    "fig_lat = lat2.plot(ms=5, axis=True)"
   ]
  },
  {
   "cell_type": "code",
   "execution_count": 27,
   "metadata": {
    "collapsed": false
   },
   "outputs": [
    {
     "data": {
      "image/png": "[encoded data removed]",
      "text/plain": [
       "<matplotlib.figure.Figure at 0x1103efd30>"
      ]
     },
     "metadata": {},
     "output_type": "display_data"
    }
   ],
   "source": [
    "lat = lat1 - lat2\n",
    "fig_lat = lat.plot(ms=5, axis=True)"
   ]
  },
  {
   "cell_type": "markdown",
   "metadata": {},
   "source": [
    "## ADD SITES"
   ]
  },
  {
   "cell_type": "code",
   "execution_count": 28,
   "metadata": {
    "collapsed": false
   },
   "outputs": [
    {
     "data": {
      "image/png": "[encoded data removed]",
      "text/plain": [
       "<matplotlib.figure.Figure at 0x10c816cf8>"
      ]
     },
     "metadata": {},
     "output_type": "display_data"
    },
    {
     "data": {
      "image/png": "[encoded data removed]",
      "text/plain": [
       "<matplotlib.figure.Figure at 0x11020ce48>"
      ]
     },
     "metadata": {},
     "output_type": "display_data"
    },
    {
     "data": {
      "image/png": "[encoded data removed]",
      "text/plain": [
       "<matplotlib.figure.Figure at 0x11020c390>"
      ]
     },
     "metadata": {},
     "output_type": "display_data"
    },
    {
     "data": {
      "image/png": "[encoded data removed]",
      "text/plain": [
       "<matplotlib.figure.Figure at 0x10fdbfeb8>"
      ]
     },
     "metadata": {},
     "output_type": "display_data"
    },
    {
     "data": {
      "image/png": "[encoded data removed]",
      "text/plain": [
       "<matplotlib.figure.Figure at 0x110309ac8>"
      ]
     },
     "metadata": {},
     "output_type": "display_data"
    }
   ],
   "source": [
    "unit_cell = [{'tag': b'a', 'r0': (0, 0)}]\n",
    "prim_vec = [(1., 0.), (0., 1.)]\n",
    "\n",
    "# lattice 1 (square)\n",
    "lat1 = lattice(unit_cell=unit_cell, prim_vec=prim_vec)\n",
    "sav = save(dir_name='dumbbell')\n",
    "\n",
    "n1, n2 = 7, 7\n",
    "lat1.get_lattice(n1=n1, n2=n2)\n",
    "fig_lat1 = lat1.plot(ms=15, axis=True)\n",
    "sav.fig_lat(fig_lat1, 'lattice1');\n",
    "\n",
    "# lattice 2 (rectangle)\n",
    "lat2 = lattice(unit_cell=unit_cell, prim_vec=prim_vec)\n",
    "n1, n2 = 6, 3\n",
    "lat2.get_lattice(n1=n1, n2=n2)\n",
    "lat2.shift_x(shift=6)\n",
    "lat2.shift_y(shift=2)\n",
    "fig_lat2 = lat2.plot(ms=15, axis=True)\n",
    "sav.fig_lat(fig_lat2, 'lattice2');\n",
    "\n",
    "lat1 += lat2\n",
    "fig_lat3 = lat1.plot(ms=15, axis=True);\n",
    "sav.fig_lat(fig_lat3, 'lattice3');\n",
    "\n",
    "# lattice 3 (square)\n",
    "lat3 = lattice(unit_cell=unit_cell, prim_vec=prim_vec)\n",
    "n1, n2 = 7, 7\n",
    "lat3.get_lattice(n1=n1, n2=n2)\n",
    "lat3.shift_x(shift=12)\n",
    "fig_lat3 = lat3.plot(ms=15, axis=True)\n",
    "sav.fig_lat(fig_lat3, 'lattice2');\n",
    "\n",
    "lat1 += lat3\n",
    "fig_lat1 = lat1.plot(ms=15, figsize=(8, 5))\n",
    "sav.fig_lat(fig_lat1, 'dumbbell');\n"
   ]
  },
  {
   "cell_type": "code",
   "execution_count": 29,
   "metadata": {
    "collapsed": false
   },
   "outputs": [
    {
     "data": {
      "image/png": "[encoded data removed]",
      "text/plain": [
       "<matplotlib.figure.Figure at 0x10ff3eda0>"
      ]
     },
     "metadata": {},
     "output_type": "display_data"
    },
    {
     "data": {
      "image/png": "[encoded data removed]",
      "text/plain": [
       "<matplotlib.figure.Figure at 0x10e18c128>"
      ]
     },
     "metadata": {},
     "output_type": "display_data"
    },
    {
     "data": {
      "image/png": "[encoded data removed]",
      "text/plain": [
       "<matplotlib.figure.Figure at 0x11020c160>"
      ]
     },
     "metadata": {},
     "output_type": "display_data"
    }
   ],
   "source": [
    "unit_cell = [{'tag': b'a', 'r0': (0., 0.)}, \n",
    "             {'tag': b'b', 'r0': (0.5*sqrt(3), 0.5)}]\n",
    "prim_vec = [(sqrt(3), 0.), \n",
    "            (cos(PI/3)*sqrt(3), sin(PI/3)*sqrt(3))]\n",
    "\n",
    "lat1 = lattice(unit_cell=unit_cell, prim_vec=prim_vec)\n",
    "sav = save(dir_name='graphene')\n",
    "\n",
    "# rhombus = 2 triangles\n",
    "n = 10 # no of plackets along one edge.\n",
    "lat1.get_lattice(n1=n+2, n2=n+2)\n",
    "lat1.boundary_line(cx=-sqrt(3), cy=-1, co=-3*n-0.1)\n",
    "fig_lat = lat1.plot(ms=10, axis=True)\n",
    "sav.fig_lat(fig_lat1, 'triangle_up');\n",
    "\n",
    "lat2 = lattice(unit_cell=unit_cell, prim_vec=prim_vec)\n",
    "lat2.get_lattice(n1=n+2, n2=n+2)\n",
    "lat2.boundary_line(cx=-sqrt(3), cy=-1, co=-3*n-0.1)\n",
    "lat2.change_sign_y()\n",
    "lat2.shift_y(shift=-1)\n",
    "fig_lat2 = lat2.plot(ms=10, axis=True)\n",
    "sav.fig_lat(fig_lat2, 'triangle_down');\n",
    "\n",
    "lat1 += lat2 \n",
    "fig_lat = lat1.plot(ms=10, figsize=(16, 10))\n",
    "sav.fig_lat(fig_lat, 'rhombus');"
   ]
  },
  {
   "cell_type": "markdown",
   "metadata": {
    "collapsed": false
   },
   "source": [
    "### Rotation"
   ]
  },
  {
   "cell_type": "code",
   "execution_count": 30,
   "metadata": {
    "collapsed": false
   },
   "outputs": [
    {
     "data": {
      "image/png": "[encoded data removed]",
      "text/plain": [
       "<matplotlib.figure.Figure at 0x10feb32b0>"
      ]
     },
     "metadata": {},
     "output_type": "display_data"
    }
   ],
   "source": [
    "unit_cell = [{'tag': b'a', 'r0': (0., 0.)}, \n",
    "             {'tag': b'b', 'r0': (0., 1.)}]\n",
    "prim_vec = [(1., 0.)]\n",
    "lat = lattice(unit_cell=unit_cell, prim_vec=prim_vec)\n",
    "\n",
    "n1, n2 = 5, 1\n",
    "lat.get_lattice(n1=n1, n2=n2)\n",
    "fig_lat = lat.plot(ms=10);"
   ]
  },
  {
   "cell_type": "code",
   "execution_count": 31,
   "metadata": {
    "collapsed": false
   },
   "outputs": [
    {
     "data": {
      "image/png": "[encoded data removed]",
      "text/plain": [
       "<matplotlib.figure.Figure at 0x1102eec18>"
      ]
     },
     "metadata": {},
     "output_type": "display_data"
    }
   ],
   "source": [
    "lat.rotation(theta=45)\n",
    "fig_lat = lat.plot(ms=10, axis=True);"
   ]
  },
  {
   "cell_type": "code",
   "execution_count": 32,
   "metadata": {
    "collapsed": true
   },
   "outputs": [],
   "source": [
    "### Remove sites with identical coordinates"
   ]
  },
  {
   "cell_type": "code",
   "execution_count": 33,
   "metadata": {
    "collapsed": true
   },
   "outputs": [],
   "source": [
    "unit_cell = [{'tag': b'a', 'r0': (0, 0)},\n",
    "             {'tag': b'b', 'r0': (1, 0)},\n",
    "             {'tag': b'c', 'r0': (0, 1)}]\n",
    "prim_vec = [(2., 0.), (0., 2.)]\n",
    "\n",
    "lat1 = lattice(unit_cell=unit_cell, prim_vec=prim_vec)\n",
    "lat2 = lattice(unit_cell=unit_cell, prim_vec=prim_vec)"
   ]
  },
  {
   "cell_type": "code",
   "execution_count": 34,
   "metadata": {
    "collapsed": false
   },
   "outputs": [
    {
     "data": {
      "image/png": "[encoded data removed]",
      "text/plain": [
       "<matplotlib.figure.Figure at 0x10e0fb2e8>"
      ]
     },
     "metadata": {},
     "output_type": "display_data"
    }
   ],
   "source": [
    "n1, n2 = 5, 5\n",
    "lat1.get_lattice(n1=n1, n2=n2)\n",
    "fig_lat = lat1.plot(ms=7, axis=True)"
   ]
  },
  {
   "cell_type": "code",
   "execution_count": 35,
   "metadata": {
    "collapsed": false
   },
   "outputs": [
    {
     "data": {
      "image/png": "[encoded data removed]",
      "text/plain": [
       "<matplotlib.figure.Figure at 0x10e13fdd8>"
      ]
     },
     "metadata": {},
     "output_type": "display_data"
    }
   ],
   "source": [
    "lat2.get_lattice(n1=n1, n2=n2)\n",
    "lat2.shift_x(shift=4)\n",
    "lat2.shift_y(shift=4)\n",
    "fig_lat = lat2.plot(ms=7, axis=True)"
   ]
  },
  {
   "cell_type": "code",
   "execution_count": 36,
   "metadata": {
    "collapsed": true
   },
   "outputs": [],
   "source": [
    "lat = lat1 + lat2"
   ]
  },
  {
   "cell_type": "code",
   "execution_count": 37,
   "metadata": {
    "collapsed": false
   },
   "outputs": [
    {
     "name": "stdout",
     "output_type": "stream",
     "text": [
      "Before check, sites =  150\n",
      "After check, sites =  123\n"
     ]
    }
   ],
   "source": [
    "print('Before check, sites = ', lat.sites)\n",
    "lat.clean_coor()\n",
    "print('After check, sites = ', lat.sites)"
   ]
  },
  {
   "cell_type": "code",
   "execution_count": 38,
   "metadata": {
    "collapsed": false
   },
   "outputs": [
    {
     "data": {
      "image/png": "[encoded data removed]",
      "text/plain": [
       "<matplotlib.figure.Figure at 0x10ffe0a58>"
      ]
     },
     "metadata": {},
     "output_type": "display_data"
    }
   ],
   "source": [
    "fig_lat = lat.plot(ms=6)"
   ]
  },
  {
   "cell_type": "code",
   "execution_count": null,
   "metadata": {
    "collapsed": true
   },
   "outputs": [],
   "source": []
  },
  {
   "cell_type": "code",
   "execution_count": 39,
   "metadata": {
    "collapsed": true
   },
   "outputs": [],
   "source": [
    "from system import *"
   ]
  },
  {
   "cell_type": "code",
   "execution_count": 40,
   "metadata": {
    "collapsed": true
   },
   "outputs": [],
   "source": [
    "from math import sqrt"
   ]
  },
  {
   "cell_type": "code",
   "execution_count": 41,
   "metadata": {
    "collapsed": false
   },
   "outputs": [
    {
     "data": {
      "image/png": "[encoded data removed]",
      "text/plain": [
       "<matplotlib.figure.Figure at 0x11083f7f0>"
      ]
     },
     "metadata": {},
     "output_type": "display_data"
    }
   ],
   "source": [
    "unit_cell = [{'tag': b'a', 'r0': (0, 0)}]\n",
    "#prim_vec = [(sqrt(3), sqrt(2)), (-sqrt(5/3)/2, sqrt(1/3))]\n",
    "prim_vec = [(1, 0), (0, 1)]\n",
    "lat = lattice(unit_cell=unit_cell, prim_vec=prim_vec)\n",
    "n1, n2 = 2, 2\n",
    "lat.get_lattice(n1=n1, n2=n2)\n",
    "lat.plot(plt_index=True, figsize=(2, 2));"
   ]
  },
  {
   "cell_type": "code",
   "execution_count": 42,
   "metadata": {
    "collapsed": false
   },
   "outputs": [],
   "source": [
    "sys = system(lat=lat)"
   ]
  },
  {
   "cell_type": "code",
   "execution_count": 49,
   "metadata": {
    "collapsed": false
   },
   "outputs": [
    {
     "name": "stdout",
     "output_type": "stream",
     "text": [
      "\n",
      "2 different distances between sites:\n",
      "\n",
      "Distances between sites:\n",
      "1st hopping, length: 1.000\n",
      "\twith positive angles:\n",
      "\t [  0.  90.]\n",
      "2nd hopping, length: 1.414\n",
      "\twith positive angles:\n",
      "\t [  45.  135.]\n"
     ]
    }
   ],
   "source": [
    "sys.print_distances(n=2)"
   ]
  },
  {
   "cell_type": "code",
   "execution_count": null,
   "metadata": {
    "collapsed": false
   },
   "outputs": [],
   "source": []
  },
  {
   "cell_type": "code",
   "execution_count": 44,
   "metadata": {
    "collapsed": false
   },
   "outputs": [],
   "source": [
    "sys.set_hopping([{'n': 2, 'tag': b'aa', 't': 3.}])"
   ]
  },
  {
   "cell_type": "code",
   "execution_count": 45,
   "metadata": {
    "collapsed": false
   },
   "outputs": [
    {
     "data": {
      "text/plain": [
       "array([(2, 0, 3, 45.0, b'aa', (3+0j)), (2, 1, 2, 135.0, b'aa', (3+0j))], \n",
       "      dtype=[('n', '<u2'), ('i', '<u4'), ('j', '<u4'), ('ang', '<f8'), ('tag', 'S2'), ('t', '<c16')])"
      ]
     },
     "execution_count": 45,
     "metadata": {},
     "output_type": "execute_result"
    }
   ],
   "source": [
    "sys.hop"
   ]
  },
  {
   "cell_type": "code",
   "execution_count": 46,
   "metadata": {
    "collapsed": false
   },
   "outputs": [
    {
     "data": {
      "text/plain": [
       "array([(2, 0, 3, 45.0, b'aa', (3+0j)), (2, 1, 2, 135.0, b'aa', (3+0j))], \n",
       "      dtype=[('n', '<u2'), ('i', '<u4'), ('j', '<u4'), ('ang', '<f8'), ('tag', 'S2'), ('t', '<c16')])"
      ]
     },
     "execution_count": 46,
     "metadata": {},
     "output_type": "execute_result"
    }
   ],
   "source": [
    "sys.hop"
   ]
  }
 ],
 "metadata": {
  "kernelspec": {
   "display_name": "Python 3",
   "language": "python",
   "name": "python3"
  },
  "language_info": {
   "codemirror_mode": {
    "name": "ipython",
    "version": 3
   },
   "file_extension": ".py",
   "mimetype": "text/x-python",
   "name": "python",
   "nbconvert_exporter": "python",
   "pygments_lexer": "ipython3",
   "version": "3.4.4"
  }
 },
 "nbformat": 4,
 "nbformat_minor": 0
}
