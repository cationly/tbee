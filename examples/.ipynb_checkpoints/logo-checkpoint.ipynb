{
 "cells": [
  {
   "cell_type": "code",
   "execution_count": 1,
   "metadata": {
    "collapsed": true
   },
   "outputs": [],
   "source": [
    "# get the absolute path of the TB module.\n",
    "import os\n",
    "import sys\n",
    "curent_path = os.getcwd()\n",
    "module_path = curent_path[:-9]\n",
    "sys.path.append(module_path)"
   ]
  },
  {
   "cell_type": "code",
   "execution_count": 2,
   "metadata": {
    "collapsed": true
   },
   "outputs": [],
   "source": [
    "from tbee.lattice import *\n",
    "from tbee.system import *\n",
    "from tbee.plot import *\n",
    "from tbee.save import *\n",
    "%matplotlib inline"
   ]
  },
  {
   "cell_type": "code",
   "execution_count": 3,
   "metadata": {
    "collapsed": true
   },
   "outputs": [],
   "source": [
    "%load_ext autoreload\n",
    "%autoreload 2"
   ]
  },
  {
   "cell_type": "code",
   "execution_count": 4,
   "metadata": {
    "collapsed": false
   },
   "outputs": [
    {
     "name": "stdout",
     "output_type": "stream",
     "text": [
      "\n",
      "11 different distances between sites:\n",
      "\n",
      "Distances between sites:\n",
      "1st hopping, length: 1.000\n",
      "\twith positive angles:\n",
      "\t [  0.  90.]\n",
      "2nd hopping, length: 1.414\n",
      "\twith positive angles:\n",
      "\t [  45.  135.]\n",
      "3rd hopping, length: 2.000\n",
      "\twith positive angles:\n",
      "\t [  0.  90.]\n",
      "4th hopping, length: 2.236\n",
      "\twith positive angles:\n",
      "\t [  26.5651   63.4349  116.5651  153.4349]\n"
     ]
    },
    {
     "data": {
      "image/png": "[encoded data removed]",
      "text/plain": [
       "<matplotlib.figure.Figure at 0x11765a4e0>"
      ]
     },
     "metadata": {},
     "output_type": "display_data"
    },
    {
     "data": {
      "image/png": "[encoded data removed]",
      "text/plain": [
       "<matplotlib.figure.Figure at 0x1177a9eb8>"
      ]
     },
     "metadata": {},
     "output_type": "display_data"
    },
    {
     "data": {
      "image/png": "[encoded data removed]",
      "text/plain": [
       "<matplotlib.figure.Figure at 0x1177f8c18>"
      ]
     },
     "metadata": {},
     "output_type": "display_data"
    }
   ],
   "source": [
    "n1 = 4\n",
    "unit_cell = [{'tag': b'a', 'r0': (0, -4.)}]\n",
    "prim_vec = [(0., 1.)]\n",
    "lat1 = lattice(unit_cell=unit_cell, prim_vec=prim_vec)\n",
    "lat1.get_lattice(n1=n1, n2=1)\n",
    "#lat1.shift_y(4)\n",
    "#lat1.shift_x(-2)\n",
    "lat1.plot(figsize=(4, 3), axis=True);\n",
    "sys1 = system(lat=lat1)\n",
    "plt1 = plot(sys=sys1)\n",
    "sav = save(dir_name='logo', file_format='pdf')\n",
    "\n",
    "\n",
    "\n",
    "unit_cell = [{'tag': b'a', 'r0': (-2, 0)}]\n",
    "prim_vec = [(1., 0.)]\n",
    "lat2 = lattice(unit_cell=unit_cell, prim_vec=prim_vec)\n",
    "n1 = 5\n",
    "lat2.get_lattice(n1=n1)\n",
    "lat2.plot(figsize=(4, 3), axis=True);\n",
    "\n",
    "lat1 += lat2\n",
    "sys1.print_distances(n=4)\n",
    "sys1.set_hopping([{'n': 1, 't': 1.}, \n",
    "                  {'n': 4, 't': .6},\n",
    "                  {'n': 5, 't': .4}])\n",
    "fig_t = plt1.lattice(plt_hop=True, c=5);\n",
    "#sav.fig_lat(fig_t, 'latticeT');\n"
   ]
  },
  {
   "cell_type": "code",
   "execution_count": 5,
   "metadata": {
    "collapsed": false
   },
   "outputs": [
    {
     "name": "stdout",
     "output_type": "stream",
     "text": [
      "\n",
      "11 different distances between sites:\n",
      "\n",
      "Distances between sites:\n",
      "1st hopping, length: 1.000\n",
      "\twith positive angles:\n",
      "\t [  0.  90.]\n"
     ]
    },
    {
     "data": {
      "image/png": "[encoded data removed]",
      "text/plain": [
       "<matplotlib.figure.Figure at 0x1176df4a8>"
      ]
     },
     "metadata": {},
     "output_type": "display_data"
    }
   ],
   "source": [
    "unit_cell = [{'tag': b'a', 'r0': (0, 0)},\n",
    "             {'tag': b'a', 'r0': (0, 1)},\n",
    "             {'tag': b'a', 'r0': (1, 0)}]\n",
    "prim_vec = [(2., 0.), (0., 2.)]\n",
    "lat = lattice(unit_cell=unit_cell, prim_vec=prim_vec)\n",
    "sys = system(lat=lat)\n",
    "plt = plot(sys=sys, colors=['r'])\n",
    "sav = save(dir_name='logo', file_format='pdf')\n",
    "\n",
    "n1, n2 = 2, 3\n",
    "lat.get_lattice(n1=n1, n2=n2)\n",
    "lat.remove_dangling()\n",
    "lat.remove_sites([7])\n",
    "lat.shift_x(3)\n",
    "sys.print_distances()\n",
    "sys.set_hopping([{'n': 1, 't': 1.}, \n",
    "                  {'n': 2, 't': .6}, \n",
    "                  {'n': 4, 't': .4}])\n",
    "fig_b = plt.lattice(plt_hop=True, c=5);\n",
    "sav.fig_lat(fig_b, 'latticeB');"
   ]
  },
  {
   "cell_type": "code",
   "execution_count": null,
   "metadata": {
    "collapsed": true
   },
   "outputs": [],
   "source": []
  }
 ],
 "metadata": {
  "kernelspec": {
   "display_name": "Python 3",
   "language": "python",
   "name": "python3"
  },
  "language_info": {
   "codemirror_mode": {
    "name": "ipython",
    "version": 3
   },
   "file_extension": ".py",
   "mimetype": "text/x-python",
   "name": "python",
   "nbconvert_exporter": "python",
   "pygments_lexer": "ipython3",
   "version": "3.4.4"
  }
 },
 "nbformat": 4,
 "nbformat_minor": 0
}
