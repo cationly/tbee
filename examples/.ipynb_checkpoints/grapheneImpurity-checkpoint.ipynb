{
 "cells": [
  {
   "cell_type": "code",
   "execution_count": 6,
   "metadata": {
    "collapsed": true
   },
   "outputs": [],
   "source": [
    "# get the absolute path of the module.\n",
    "import os\n",
    "import sys\n",
    "curent_path = os.getcwd()\n",
    "module_path = curent_path[:-9]\n",
    "sys.path.append(module_path)"
   ]
  },
  {
   "cell_type": "code",
   "execution_count": 7,
   "metadata": {
    "collapsed": true
   },
   "outputs": [],
   "source": [
    "from tbee.graphene import *\n",
    "from tbee.save import *\n",
    "import matplotlib.pyplot as plt\n",
    "%matplotlib inline"
   ]
  },
  {
   "cell_type": "code",
   "execution_count": 8,
   "metadata": {
    "collapsed": false
   },
   "outputs": [],
   "source": [
    "%load_ext autoreload\n",
    "%autoreload 2"
   ]
  },
  {
   "cell_type": "code",
   "execution_count": 9,
   "metadata": {
    "collapsed": true
   },
   "outputs": [],
   "source": [
    "import warnings\n",
    "warnings.filterwarnings('ignore')"
   ]
  },
  {
   "cell_type": "markdown",
   "metadata": {},
   "source": [
    "## 1 PLACKET"
   ]
  },
  {
   "cell_type": "code",
   "execution_count": 52,
   "metadata": {
    "collapsed": false
   },
   "outputs": [
    {
     "data": {
      "image/png": "[encoded data removed]",
      "text/plain": [
       "<matplotlib.figure.Figure at 0x108dea8d0>"
      ]
     },
     "metadata": {},
     "output_type": "display_data"
    }
   ],
   "source": [
    "lat = grapheneLat()\n",
    "sys = system(lat=lat)\n",
    "plt = plot(sys=sys)\n",
    "lat.get_lattice(n1=2, n2=2)\n",
    "lat.remove_dangling()\n",
    "lat.center()\n",
    "lat.remove_sites([0])\n",
    "coor = np.array([(0, -1, b'c'), (0, -1, b'd')], dtype=[('x', 'f8'), ('y', 'f8'), ('tag', 'S1')])\n",
    "lat.add_sites(coor=coor)\n",
    "\n",
    "lat.plot(axis=True, plt_index=True, ms=20, fs=20);"
   ]
  },
  {
   "cell_type": "code",
   "execution_count": 53,
   "metadata": {
    "collapsed": true
   },
   "outputs": [],
   "source": [
    "sys.set_onsite({b'a': 1, b'b': 1})"
   ]
  },
  {
   "cell_type": "code",
   "execution_count": 54,
   "metadata": {
    "collapsed": false
   },
   "outputs": [],
   "source": [
    "# Energies of the 2 levels\n",
    "sys.set_onsite({b'c': 1, b'd': 2})"
   ]
  },
  {
   "cell_type": "code",
   "execution_count": 55,
   "metadata": {
    "collapsed": false
   },
   "outputs": [],
   "source": [
    "sys.set_hopping([{'n': 1, 't': 1, 'tag': b'ab'},\n",
    "                 {'n': 1, 't': 1, 'tag': b'ba'}])\n",
    "\n",
    "#sys.set_hopping([{'n': 2, 't': 0.8, 'tag': b'aa'},\n",
    "#                 {'n': 2, 't': 0.8, 'tag': b'bb'}])"
   ]
  },
  {
   "cell_type": "code",
   "execution_count": 56,
   "metadata": {
    "collapsed": false
   },
   "outputs": [],
   "source": [
    "#NEAREST NEIGHBOURS Hoppings to/from impurity\n",
    "t0 = 0.6\n",
    "t1 = 0.4\n",
    "sys.set_hopping([{'n': 1, 't': t0, 'tag': b'cb'}])\n",
    "sys.set_hopping([{'n': 1, 't': t1, 'tag': b'db'}])"
   ]
  },
  {
   "cell_type": "code",
   "execution_count": 57,
   "metadata": {
    "collapsed": true
   },
   "outputs": [],
   "source": [
    "#NEXT NEAREST NEIGHBOURS \n",
    "t2 = 0.2\n",
    "sys.set_hopping([{'n': 2, 't': t2, 'tag': b'ca'}])"
   ]
  },
  {
   "cell_type": "code",
   "execution_count": 58,
   "metadata": {
    "collapsed": false
   },
   "outputs": [
    {
     "data": {
      "image/png": "[encoded data removed]",
      "text/plain": [
       "<matplotlib.figure.Figure at 0x108e8c828>"
      ]
     },
     "metadata": {},
     "output_type": "display_data"
    }
   ],
   "source": [
    "plt.lattice(plt_hop=True, c=3, ms=20);"
   ]
  },
  {
   "cell_type": "code",
   "execution_count": 59,
   "metadata": {
    "collapsed": false
   },
   "outputs": [
    {
     "name": "stdout",
     "output_type": "stream",
     "text": [
      "[[ 1.   0.   0.6  0.6  0.2  0.2  0. ]\n",
      " [ 0.   2.   0.4  0.4  0.   0.   0. ]\n",
      " [ 0.6  0.4  0.   0.   1.   0.   0. ]\n",
      " [ 0.6  0.4  0.   0.   0.   1.   0. ]\n",
      " [ 0.2  0.   1.   0.   0.   0.   1. ]\n",
      " [ 0.2  0.   0.   1.   0.   0.   1. ]\n",
      " [ 0.   0.   0.   0.   1.   1.   0. ]]\n"
     ]
    }
   ],
   "source": [
    "sys.get_ham()\n",
    "print(sys.ham.real.toarray())\n",
    "sys.get_eig(eigenvec=True)"
   ]
  },
  {
   "cell_type": "code",
   "execution_count": 61,
   "metadata": {
    "collapsed": false
   },
   "outputs": [
    {
     "data": {
      "image/png": "[encoded data removed]",
      "text/plain": [
       "<matplotlib.figure.Figure at 0x108dd44e0>"
      ]
     },
     "metadata": {},
     "output_type": "display_data"
    }
   ],
   "source": [
    "plt.spectrum(ms=10, fs=15);"
   ]
  },
  {
   "cell_type": "markdown",
   "metadata": {},
   "source": [
    "## 1 FLAKE"
   ]
  },
  {
   "cell_type": "code",
   "execution_count": 86,
   "metadata": {
    "collapsed": false
   },
   "outputs": [
    {
     "data": {
      "image/png": "[encoded data removed]",
      "text/plain": [
       "<matplotlib.figure.Figure at 0x108ebd748>"
      ]
     },
     "metadata": {},
     "output_type": "display_data"
    }
   ],
   "source": [
    "lat = grapheneLat()\n",
    "sys = system(lat=lat)\n",
    "plt = plot(sys=sys)\n",
    "lat.get_lattice(n1=5, n2=5)\n",
    "lat.remove_dangling()\n",
    "lat.plot(axis=True, plt_index=True, ms=10, fs=10);"
   ]
  },
  {
   "cell_type": "code",
   "execution_count": 83,
   "metadata": {
    "collapsed": false
   },
   "outputs": [
    {
     "data": {
      "image/png": "[encoded data removed]",
      "text/plain": [
       "<matplotlib.figure.Figure at 0x108e96668>"
      ]
     },
     "metadata": {},
     "output_type": "display_data"
    }
   ],
   "source": [
    "lat.remove_sites([21])\n",
    "x_imp = 3. * sqrt(3)\n",
    "y_imp = 3.\n",
    "coor = np.array([(x_imp, y_imp, b'c'), (x_imp, y_imp, b'd')], \n",
    "                dtype=[('x', 'f8'), ('y', 'f8'), ('tag', 'S1')])\n",
    "lat.add_sites(coor=coor)\n",
    "lat.plot(axis=True, ms=10);"
   ]
  },
  {
   "cell_type": "code",
   "execution_count": 80,
   "metadata": {
    "collapsed": true
   },
   "outputs": [],
   "source": [
    "sys.set_hopping([{'n': 1, 't': 1}])"
   ]
  },
  {
   "cell_type": "code",
   "execution_count": 81,
   "metadata": {
    "collapsed": false
   },
   "outputs": [],
   "source": [
    "sys.set_hopping([{'n': 1, 'tag': b'bc', 't': 2}])\n",
    "sys.set_hopping([{'n': 1, 'tag': b'cb', 't': 3}])"
   ]
  },
  {
   "cell_type": "code",
   "execution_count": 82,
   "metadata": {
    "collapsed": false
   },
   "outputs": [
    {
     "data": {
      "image/png": "[encoded data removed]",
      "text/plain": [
       "<matplotlib.figure.Figure at 0x109593710>"
      ]
     },
     "metadata": {},
     "output_type": "display_data"
    }
   ],
   "source": [
    "plt.lattice(plt_hop=True, c=3, ms=10);"
   ]
  },
  {
   "cell_type": "code",
   "execution_count": null,
   "metadata": {
    "collapsed": true
   },
   "outputs": [],
   "source": []
  }
 ],
 "metadata": {
  "kernelspec": {
   "display_name": "Python 3",
   "language": "python",
   "name": "python3"
  },
  "language_info": {
   "codemirror_mode": {
    "name": "ipython",
    "version": 3
   },
   "file_extension": ".py",
   "mimetype": "text/x-python",
   "name": "python",
   "nbconvert_exporter": "python",
   "pygments_lexer": "ipython3",
   "version": "3.5.1"
  }
 },
 "nbformat": 4,
 "nbformat_minor": 0
}
